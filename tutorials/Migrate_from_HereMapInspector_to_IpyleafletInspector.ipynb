{
 "cells": [
  {
   "cell_type": "markdown",
   "id": "96ace960",
   "metadata": {},
   "source": [
    "# Migrate to Ipyleaflet\n",
    "\n",
    "**In this notebook we explain how to migrate from `HEREMapInspector` to `IpyleafletInspector`.**\n",
    "\n",
    "`here-inspector` is promoting `HEREv3.reducedDay` as default tile provider. If `options.api_key` is not set, calls to `inspect()` use tiles from `Esri.WorldTopoMap` and instancations of `HEREMapInspector` raise a `ValueError`.\n",
    "\n",
    "In 2.28.0 release, `HEREMapInspector` has been adapted to use the `ipyleaflet` package so that the only differences between `IpyleafletInspector` and `HEREMapInspector` are about the default configuration:\n",
    "\n",
    "|  | `HEREMapInspector` | `IpyleafletInspector` |\n",
    "|:-----------|:-------------------|:----------------------|\n",
    "| HERE api key | needed by default | not needed by default |\n",
    "|  default<br/>`xyzservices`<br/>`TileProvider` |  `HEREv3.reducedDay`     | `Esri.WorldTopoMap` |\n",
    "\n",
    "\n",
    "Note however that you still need a HERE api key to be able to use `IpyleafletInspector` with `HEREv3` tile providers.\n",
    "\n",
    "The cells below demonstrate how to use `IpyleafletInspector` instead of `HEREMapInspector` with only minimal changes. It replicates the cells from `ExploreInspector_HereMapWidgetForJupyter.ipynb` using a `HERMapInspector` instance."
   ]
  },
  {
   "cell_type": "code",
   "execution_count": null,
   "id": "55bd6fc3-f1c8-4cb4-a3fb-76a9b294391e",
   "metadata": {},
   "outputs": [],
   "source": [
    "# First, load GeoJSON features and shapely geometries:\n",
    "\n",
    "import json\n",
    "from shapely.geometry import shape, Point, MultiPoint, LineString, Polygon\n",
    "\n",
    "with open(\"sample_datasets/FRA.geo.json\") as f:\n",
    "    fra = json.load(f)[\"features\"][0] \n",
    "\n",
    "pt1 = Point(30, 50)\n",
    "pt2 = Point(32, 49)\n",
    "pt3 = Point(31, 52)\n",
    "\n",
    "ls1 = LineString([(29, 49), (30, 51), (31, 49), (32, 50), (33, 51)])\n",
    "ls2 = LineString([(30, 47), (31, 48), (29, 49), (31, 50), (29, 51)])\n",
    "\n",
    "poly1 = Polygon([(28, 46), (28, 52), (29, 53), (31, 53), (33, 48), (32, 47), (28, 46)])\n",
    "poly2 = MultiPoint([(40, 51), (43, 49)]).buffer(3)"
   ]
  },
  {
   "cell_type": "code",
   "execution_count": null,
   "id": "9c112eb6-54ea-445a-8907-dbb3728afd4c",
   "metadata": {},
   "outputs": [],
   "source": [
    "# Configure your HERE API key\n",
    "# HERE API key is mandatory to use HEREv3 tiles.\n",
    "\n",
    "import os\n",
    "from here.inspector import options\n",
    "\n",
    "options.api_key = os.getenv(\"LS_API_KEY\") or \"YOUR-ACTUAL-API-KEY\" "
   ]
  },
  {
   "cell_type": "markdown",
   "id": "a5883ef3",
   "metadata": {},
   "source": [
    "# `import as`\n",
    "\n",
    "Both `HEREMapInspector` and `IpyleafletInspector` share the same interface. You can continue to fine-tune an instance of `IpyleafletInspector` as if it were an instance `HEREMapInspector`. \n",
    "Notebooks using `HEREMapInspector` can be migrated to `IpyleafletInspector` by replacing class names:\n",
    "\n",
    "Replace\n",
    "\n",
    "```Python\n",
    "from here.inspector import HEREMapInspector \n",
    "```\n",
    "with:\n",
    "\n",
    "```Python\n",
    "from here.inspector import IpyleafletInspector as HEREMapInspector \n",
    "```"
   ]
  },
  {
   "cell_type": "code",
   "execution_count": null,
   "id": "22f73b40-3937-4143-ac36-c104031c7eb3",
   "metadata": {},
   "outputs": [],
   "source": [
    "# Instantiate IpyleafletInspector as if it were a HERE Map Widget for Jupyter based inspector\n",
    "from here.inspector import IpyleafletInspector as HEREMapInspector \n",
    "from here.inspector import here_basemaps\n",
    "\n",
    "inspector = HEREMapInspector()\n",
    "inspector.set_basemap(basemap=here_basemaps.normalDay)\n",
    "inspector.set_zoom(14)\n",
    "inspector.set_center(Point(13.4083, 52.5186))\n",
    "inspector.show()"
   ]
  },
  {
   "cell_type": "code",
   "execution_count": null,
   "id": "64537a31-dee8-48f9-a0d4-7939a78de1fb",
   "metadata": {},
   "outputs": [],
   "source": [
    "from here.inspector import external_basemaps\n",
    "\n",
    "inspector = HEREMapInspector()\n",
    "inspector.set_basemap(basemap=external_basemaps.OpenStreetMap.Mapnik)\n",
    "inspector.show()"
   ]
  },
  {
   "cell_type": "code",
   "execution_count": null,
   "id": "671bc475",
   "metadata": {},
   "outputs": [],
   "source": [
    "inspector = HEREMapInspector()\n",
    "\n",
    "# Add features with HERE Map Widget for Jupyter specific styles\n",
    "inspector.add_features(\n",
    "    fra, name=\"France\",\n",
    "    style={\"fillColor\": \"rgba(245, 176, 65, 0.5)\", \"strokeColor\": \"black\"},\n",
    "    hover_style={'fillColor': \"rgb(0,255,255,0.5)\"}\n",
    ")\n",
    "inspector.add_features(\n",
    "    [pt1, pt2, pt3, ls1, poly2], \n",
    "    name=\"Some geometries\",\n",
    "    style={'strokeColor': 'magenta', 'fillColor': \"rgba(245, 176, 65, 0.5)\"},\n",
    "    hover_style={'fillColor': \"rgb(255,255,0,0.8)\"},\n",
    "    point_style={'radius': 8}\n",
    ")\n",
    "\n",
    "# Set a different base map the same way as you do on HEREMapInspector\n",
    "inspector.set_basemap(external_basemaps.Esri.WorldImagery)\n",
    "\n",
    "inspector.show()"
   ]
  },
  {
   "cell_type": "code",
   "execution_count": null,
   "id": "360d9f70-656f-49a7-910e-2836c065ee0a",
   "metadata": {},
   "outputs": [],
   "source": [
    "inspector = HEREMapInspector()\n",
    "\n",
    "basemap = {\n",
    "    'name': 'U.S. Geological Survey',\n",
    "    'url': 'https://basemap.nationalmap.gov/arcgis/rest/services/USGSTopo/MapServer/tile/{z}/{y}/{x}',\n",
    "    'maxZoom': 20,\n",
    "    'attribution': 'Tiles courtesy of the <a href=\"https://usgs.gov/\">U.S. Geological Survey</a>'\n",
    "}\n",
    "\n",
    "inspector.set_basemap(basemap)\n",
    "inspector.show()"
   ]
  },
  {
   "cell_type": "markdown",
   "id": "0fdc376f",
   "metadata": {},
   "source": [
    "# `backend` function\n",
    "\n",
    "The `backend()` method can further be used to access the underlying backend. Since release 2.28.0, both `HEREMapInspector` and `IpyleafletInspector` use the same `ipyleaflet` `Map` object backend."
   ]
  },
  {
   "cell_type": "code",
   "execution_count": null,
   "id": "1fcc49c7-9082-4d25-899c-8e60643f700a",
   "metadata": {},
   "outputs": [],
   "source": [
    "from here.inspector import HEREMapInspector as HEREMapInspectorDeprecated \n",
    "from here.inspector import IpyleafletInspector\n",
    "\n",
    "ipyleaflet_inspector = IpyleafletInspector()\n",
    "depecrated_heremap_inspector = HEREMapInspectorDeprecated()\n",
    "\n",
    "(type(ipyleaflet_inspector.backend()), \n",
    " type(depecrated_heremap_inspector.backend())\n",
    ")"
   ]
  },
  {
   "cell_type": "markdown",
   "id": "3c8518c2",
   "metadata": {},
   "source": [
    "### Example of a custom base map"
   ]
  },
  {
   "cell_type": "markdown",
   "id": "b8bf7b9d",
   "metadata": {},
   "source": [
    "<!--\n",
    "from urllib.parse import quote, unquote\n",
    "svg = \"\"\"<svg width=\"40\" height=\"48\" viewBox=\"0 0 40 48\" fill=\"none\" xmlns=\"http://www.w3.org/2000/svg\"><path class=\"triangle\" d=\"M11,36.8l-5.5,5.5L0,36.8H11z\" fill=\"#48DAD0\"></path><path class=\"HERE\" d=\"M19.1,24.2c-1.2-1.4-1.1-2.1-0.4-2.8c0.9-0.9,1.7-0.5,2.7,0.5L19.1,24.2z M30.9,9.2c0.9-0.9,1.7-0.5,2.7,0.5\n",
    "    L31.3,12C30.1,10.7,30.2,9.9,30.9,9.2z M38,11.6c-1.1,1.6-2.9,4.2-4.9,2.2l5-5c-0.4-0.5-0.8-0.9-1-1.1c-2.7-2.7-5.7-2.7-8-0.4\n",
    "\tc-1.6,1.6-2,3.4-1.5,5.1l-1.6-1.8c-0.5,0.3-2.4,1.9-0.9,4.5l-1.8-1.5l-2.4,2.4l3.2,3.2c-2.5-1.9-5.1-1.8-7.2,0.4\n",
    "\tc-2.3,2.3-2.1,5-0.4,7.3l-0.3-0.3c-2.3-2.3-4.7-1.5-5.9-0.3c-0.9,0.9-1.5,2.2-1.3,3.1L4,24.6l-2.6,2.6l9.6,9.6h5.2l-3.5-3.5\n",
    "\tc-1.8-1.8-1.8-2.8-1-3.7c0.8-0.8,1.8-0.3,3.6,1.4l3.4,3.4l2.6-2.6l-3.2-3.2c2.3,1.8,5.1,1.9,7.7-0.6l0,0c1.5-1.4,2-2.8,2-2.8\n",
    "\tl-1.9-1.3c-1.1,1.6-2.9,4.2-4.9,2.3l5-5l3.1,3.1l2.7-2.7l-3.9-3.9c-1.8-1.8-0.7-3.5,0-4.1c0.4,0.7,0.9,1.5,1.5,2.1\n",
    "\tc2.5,2.5,5.7,3,8.6,0.2l0,0c1.5-1.4,2-2.8,2-2.8S38,11.6,38,11.6z\" fill=\"#000000\"></path></svg>\n",
    "\"\"\"\n",
    "print(f\"\"\"![HERE](data:image/svg+xml,{quote(svg)})\n",
    "<span style=\"float:right; width:90%;\"><sub><b>Copyright (c) 2020-2025 HERE Global B.V. and its affiliate(s). All rights reserved.</b>\n",
    "This software, including documentation, is protected by copyright controlled by HERE. All rights are reserved. Copying, including reproducing, \n",
    "storing, adapting or translating, any or all of this material requires the prior written consent of HERE. This material also contains confidential \n",
    "information which may not be disclosed to others without the prior written consent of HERE.</sub></span>\"\"\")\n",
    "-->\n",
    "![HERE](data:image/svg+xml,%3Csvg%20width%3D%2240%22%20height%3D%2248%22%20viewBox%3D%220%200%2040%2048%22%20fill%3D%22none%22%20xmlns%3D%22http%3A//www.w3.org/2000/svg%22%3E%3Cpath%20class%3D%22triangle%22%20d%3D%22M11%2C36.8l-5.5%2C5.5L0%2C36.8H11z%22%20fill%3D%22%2348DAD0%22%3E%3C/path%3E%3Cpath%20class%3D%22HERE%22%20d%3D%22M19.1%2C24.2c-1.2-1.4-1.1-2.1-0.4-2.8c0.9-0.9%2C1.7-0.5%2C2.7%2C0.5L19.1%2C24.2z%20M30.9%2C9.2c0.9-0.9%2C1.7-0.5%2C2.7%2C0.5%0A%20%20%20%20L31.3%2C12C30.1%2C10.7%2C30.2%2C9.9%2C30.9%2C9.2z%20M38%2C11.6c-1.1%2C1.6-2.9%2C4.2-4.9%2C2.2l5-5c-0.4-0.5-0.8-0.9-1-1.1c-2.7-2.7-5.7-2.7-8-0.4%0A%09c-1.6%2C1.6-2%2C3.4-1.5%2C5.1l-1.6-1.8c-0.5%2C0.3-2.4%2C1.9-0.9%2C4.5l-1.8-1.5l-2.4%2C2.4l3.2%2C3.2c-2.5-1.9-5.1-1.8-7.2%2C0.4%0A%09c-2.3%2C2.3-2.1%2C5-0.4%2C7.3l-0.3-0.3c-2.3-2.3-4.7-1.5-5.9-0.3c-0.9%2C0.9-1.5%2C2.2-1.3%2C3.1L4%2C24.6l-2.6%2C2.6l9.6%2C9.6h5.2l-3.5-3.5%0A%09c-1.8-1.8-1.8-2.8-1-3.7c0.8-0.8%2C1.8-0.3%2C3.6%2C1.4l3.4%2C3.4l2.6-2.6l-3.2-3.2c2.3%2C1.8%2C5.1%2C1.9%2C7.7-0.6l0%2C0c1.5-1.4%2C2-2.8%2C2-2.8%0A%09l-1.9-1.3c-1.1%2C1.6-2.9%2C4.2-4.9%2C2.3l5-5l3.1%2C3.1l2.7-2.7l-3.9-3.9c-1.8-1.8-0.7-3.5%2C0-4.1c0.4%2C0.7%2C0.9%2C1.5%2C1.5%2C2.1%0A%09c2.5%2C2.5%2C5.7%2C3%2C8.6%2C0.2l0%2C0c1.5-1.4%2C2-2.8%2C2-2.8S38%2C11.6%2C38%2C11.6z%22%20fill%3D%22%23000000%22%3E%3C/path%3E%3C/svg%3E%0A)\n",
    "<span style=\"float:right; width:90%;\"><sub><b>Copyright (c) 2020-2025 HERE Global B.V. and its affiliate(s). All rights reserved.</b>\n",
    "This software, including documentation, is protected by copyright controlled by HERE. All rights are reserved. Copying, including reproducing, \n",
    "storing, adapting or translating, any or all of this material requires the prior written consent of HERE. This material also contains confidential \n",
    "information which may not be disclosed to others without the prior written consent of HERE.</sub></span>"
   ]
  },
  {
   "cell_type": "code",
   "execution_count": null,
   "id": "37573796-7833-4cf6-aec0-3293eec63042",
   "metadata": {},
   "outputs": [],
   "source": []
  }
 ],
 "metadata": {
  "kernelspec": {
   "display_name": "Python 3 (ipykernel)",
   "language": "python",
   "name": "python3"
  },
  "language_info": {
   "codemirror_mode": {
    "name": "ipython",
    "version": 3
   },
   "file_extension": ".py",
   "mimetype": "text/x-python",
   "name": "python",
   "nbconvert_exporter": "python",
   "pygments_lexer": "ipython3",
   "version": "3.12.1"
  }
 },
 "nbformat": 4,
 "nbformat_minor": 5
}
