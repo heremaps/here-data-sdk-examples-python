{
 "cells": [
  {
   "cell_type": "markdown",
   "metadata": {
    "pycharm": {}
   },
   "source": [
    "# Functional Class and Curvature Analysis\n",
    "This notebook illustrates the complete analysis example using Here Map Content (HMC) attributes.\n",
    "\n",
    "### Dependencies\n",
    "* Catalogs: [rib-2](https://platform.here.com/data/hrn:here:data::olp-here:rib-2)\n",
    "* Layers: [Topology Geometry](https://platform.here.com/data/hrn:here:data::olp-here:rib-2/topology-geometry), [Road Attributes](https://platform.here.com/data/hrn:here:data::olp-here:rib-2/road-attributes), [ADAS Attributes](https://platform.here.com/data/hrn:here:data::olp-here:rib-2/adas-attributes)\n",
    "\n",
    "### Workflow\n",
    "* Start with a bounding box that contains portions of two tiles\n",
    "* Extract geometry for the two tiles\n",
    "* Keep only the segments that are (at least partially) in original bounding box\n",
    "* Extract Functional Class (FC) attributes for those segments\n",
    "* Select segments with FC = 3, 4, and 5\n",
    "* Extract curvature for the survived segments\n",
    "* Analyze average curvature\n",
    "* Drop segments below the average curvature"
   ]
  },
  {
   "cell_type": "markdown",
   "metadata": {},
   "source": [
    "## Set API key (here.access.key.secret)"
   ]
  },
  {
   "cell_type": "code",
   "execution_count": 7,
   "metadata": {},
   "outputs": [],
   "source": [
    "import os\n",
    "os.environ[\"LS_API_KEY\"] = \"Cbf74Up9FOMkD3W2o1OsVs8sisG3CBmjz210SFhIo9c\""
   ]
  },
  {
   "cell_type": "markdown",
   "metadata": {
    "pycharm": {}
   },
   "source": [
    "## Get partition ID's from a given bounding box"
   ]
  },
  {
   "cell_type": "code",
   "execution_count": 8,
   "metadata": {
    "pycharm": {
     "is_executing": false
    }
   },
   "outputs": [
    {
     "name": "stdout",
     "output_type": "stream",
     "text": [
      "partition ids: ['23618402', '23618403']\n"
     ]
    }
   ],
   "source": [
    "from here.geotiles.heretile import in_bounding_box\n",
    "from shapely.geometry import Point\n",
    "\n",
    "zoom_level = 12\n",
    "west = 13.41\n",
    "east = 13.49\n",
    "south = 52.50\n",
    "north = 52.54\n",
    "center = Point(west, south)\n",
    "tileIds = list(in_bounding_box(west=west, south=south, east=east, north=north, level=zoom_level))\n",
    "\n",
    "# partition ID's: string representation of tile IDs - this will be used for extracting attributes later\n",
    "partition_ids = [str(tile) for tile in tileIds]\n",
    "print(\"partition ids:\", partition_ids)"
   ]
  },
  {
   "cell_type": "markdown",
   "metadata": {},
   "source": [
    "## Visualize the bounding box and tile boundaries\n",
    "- bounding box: Red\n",
    "- tile boundaries: Gray"
   ]
  },
  {
   "cell_type": "code",
   "execution_count": 9,
   "metadata": {},
   "outputs": [
    {
     "ename": "AttributeError",
     "evalue": "'Map' object has no attribute 'add'",
     "output_type": "error",
     "traceback": [
      "\u001b[0;31m---------------------------------------------------------------------------\u001b[0m",
      "\u001b[0;31mAttributeError\u001b[0m                            Traceback (most recent call last)",
      "Cell \u001b[0;32mIn[9], line 9\u001b[0m\n\u001b[1;32m      6\u001b[0m bb_polygon \u001b[38;5;241m=\u001b[39m Polygon([(west, south), (west, north), (east, north), (east, south), (west, south)])\n\u001b[1;32m      8\u001b[0m \u001b[38;5;66;03m# create inspect object with tile boundaries and the bounding box\u001b[39;00m\n\u001b[0;32m----> 9\u001b[0m \u001b[43minspect\u001b[49m\u001b[43m(\u001b[49m\u001b[43mlayers\u001b[49m\u001b[38;5;241;43m=\u001b[39;49m\u001b[43m{\u001b[49m\u001b[38;5;124;43m\"\u001b[39;49m\u001b[38;5;124;43mbounding_box\u001b[39;49m\u001b[38;5;124;43m\"\u001b[39;49m\u001b[43m:\u001b[49m\u001b[43m \u001b[49m\u001b[43m[\u001b[49m\u001b[43mbb_polygon\u001b[49m\u001b[43m]\u001b[49m\u001b[43m}\u001b[49m\u001b[43m,\u001b[49m\n\u001b[1;32m     10\u001b[0m \u001b[43m        \u001b[49m\u001b[43mtiles\u001b[49m\u001b[38;5;241;43m=\u001b[39;49m\u001b[43mtileIds\u001b[49m\u001b[43m,\u001b[49m\n\u001b[1;32m     11\u001b[0m \u001b[43m        \u001b[49m\u001b[43mcenter\u001b[49m\u001b[38;5;241;43m=\u001b[39;49m\u001b[43mcenter\u001b[49m\u001b[43m,\u001b[49m\n\u001b[1;32m     12\u001b[0m \u001b[43m        \u001b[49m\u001b[43mzoom\u001b[49m\u001b[38;5;241;43m=\u001b[39;49m\u001b[38;5;241;43m11\u001b[39;49m\u001b[43m,\u001b[49m\n\u001b[1;32m     13\u001b[0m \u001b[43m        \u001b[49m\u001b[43mlayers_style\u001b[49m\u001b[38;5;241;43m=\u001b[39;49m\u001b[43m{\u001b[49m\u001b[38;5;124;43m\"\u001b[39;49m\u001b[38;5;124;43mbounding_box\u001b[39;49m\u001b[38;5;124;43m\"\u001b[39;49m\u001b[43m:\u001b[49m\u001b[43m \u001b[49m\u001b[43mColor\u001b[49m\u001b[38;5;241;43m.\u001b[39;49m\u001b[43mRED\u001b[49m\u001b[43m}\u001b[49m\u001b[43m,\u001b[49m\n\u001b[1;32m     14\u001b[0m \u001b[43m        \u001b[49m\u001b[43mtiles_style\u001b[49m\u001b[38;5;241;43m=\u001b[39;49m\u001b[43mColor\u001b[49m\u001b[38;5;241;43m.\u001b[39;49m\u001b[43mGRAY\u001b[49m\u001b[43m)\u001b[49m\n",
      "File \u001b[0;32m~/pysdk-nagini/here-inspector/src/here/inspector/__init__.py:147\u001b[0m, in \u001b[0;36minspect\u001b[0;34m(features, name, style, layers, layers_style, tiles, tiles_style, center, zoom, theme)\u001b[0m\n\u001b[1;32m    144\u001b[0m \u001b[38;5;28;01mif\u001b[39;00m theme \u001b[38;5;129;01mis\u001b[39;00m \u001b[38;5;129;01mnot\u001b[39;00m \u001b[38;5;28;01mNone\u001b[39;00m:\n\u001b[1;32m    145\u001b[0m     inspector\u001b[38;5;241m.\u001b[39mset_theme(theme\u001b[38;5;241m=\u001b[39mtheme)\n\u001b[0;32m--> 147\u001b[0m \u001b[38;5;28;01mreturn\u001b[39;00m \u001b[43minspector\u001b[49m\u001b[38;5;241;43m.\u001b[39;49m\u001b[43mshow\u001b[49m\u001b[43m(\u001b[49m\u001b[43m)\u001b[49m\n",
      "File \u001b[0;32m~/pysdk-nagini/here-inspector/src/here/inspector/heremap/backend.py:233\u001b[0m, in \u001b[0;36mHEREMapInspector.show\u001b[0;34m(self)\u001b[0m\n\u001b[1;32m    226\u001b[0m \u001b[38;5;250m\u001b[39m\u001b[38;5;124;03m\"\"\"\u001b[39;00m\n\u001b[1;32m    227\u001b[0m \u001b[38;5;124;03mShow the inspector in a Jupyter notebook with the features and tiles loaded so far.\u001b[39;00m\n\u001b[1;32m    228\u001b[0m \n\u001b[1;32m    229\u001b[0m \u001b[38;5;124;03m:return: The ``heremap.Map`` object created by the inspector\u001b[39;00m\n\u001b[1;32m    230\u001b[0m \u001b[38;5;124;03m\"\"\"\u001b[39;00m\n\u001b[1;32m    231\u001b[0m \u001b[38;5;66;03m# in this specific case, we have nothing special to do to render\u001b[39;00m\n\u001b[1;32m    232\u001b[0m \u001b[38;5;66;03m# the map apart from returning the map object.\u001b[39;00m\n\u001b[0;32m--> 233\u001b[0m \u001b[38;5;28;01mreturn\u001b[39;00m \u001b[38;5;28;43mself\u001b[39;49m\u001b[38;5;241;43m.\u001b[39;49m\u001b[43mbackend\u001b[49m\u001b[43m(\u001b[49m\u001b[43m)\u001b[49m\n",
      "File \u001b[0;32m~/pysdk-nagini/here-inspector/src/here/inspector/heremap/backend.py:388\u001b[0m, in \u001b[0;36mHEREMapInspector.backend\u001b[0;34m(self)\u001b[0m\n\u001b[1;32m    386\u001b[0m     \u001b[38;5;28mself\u001b[39m\u001b[38;5;241m.\u001b[39m_map \u001b[38;5;241m=\u001b[39m Map(\u001b[38;5;241m*\u001b[39m\u001b[38;5;241m*\u001b[39mparams)\n\u001b[1;32m    387\u001b[0m     \u001b[38;5;28;01mfor\u001b[39;00m layer \u001b[38;5;129;01min\u001b[39;00m layers:\n\u001b[0;32m--> 388\u001b[0m         \u001b[38;5;28;43mself\u001b[39;49m\u001b[38;5;241;43m.\u001b[39;49m\u001b[43m_map\u001b[49m\u001b[38;5;241;43m.\u001b[39;49m\u001b[43madd\u001b[49m(layer)\n\u001b[1;32m    389\u001b[0m \u001b[38;5;28;01melse\u001b[39;00m:\n\u001b[1;32m    390\u001b[0m     \u001b[38;5;66;03m# This removes the default base map because we don't want one\u001b[39;00m\n\u001b[1;32m    391\u001b[0m     \u001b[38;5;28mself\u001b[39m\u001b[38;5;241m.\u001b[39m_map \u001b[38;5;241m=\u001b[39m Map(layers\u001b[38;5;241m=\u001b[39mlayers, \u001b[38;5;241m*\u001b[39m\u001b[38;5;241m*\u001b[39mparams)\n",
      "\u001b[0;31mAttributeError\u001b[0m: 'Map' object has no attribute 'add'"
     ]
    }
   ],
   "source": [
    "from here.inspector import inspect\n",
    "from here.inspector.styles import Color\n",
    "from shapely.geometry import Polygon\n",
    "\n",
    "# construct a bounding box geojson\n",
    "bb_polygon = Polygon([(west, south), (west, north), (east, north), (east, south), (west, south)])\n",
    "\n",
    "# create inspect object with tile boundaries and the bounding box\n",
    "inspect(layers={\"bounding_box\": [bb_polygon]},\n",
    "        tiles=tileIds,\n",
    "        center=center,\n",
    "        zoom=11,\n",
    "        layers_style={\"bounding_box\": Color.RED},\n",
    "        tiles_style=Color.GRAY)"
   ]
  },
  {
   "cell_type": "markdown",
   "metadata": {},
   "source": [
    "## Extract topology geometry and clip by bounding box"
   ]
  },
  {
   "cell_type": "code",
   "execution_count": 10,
   "metadata": {},
   "outputs": [
    {
     "ename": "ValueError",
     "evalue": "Unknown layer id here-places",
     "output_type": "error",
     "traceback": [
      "\u001b[0;31m---------------------------------------------------------------------------\u001b[0m",
      "\u001b[0;31mValueError\u001b[0m                                Traceback (most recent call last)",
      "Cell \u001b[0;32mIn[10], line 8\u001b[0m\n\u001b[1;32m      5\u001b[0m \u001b[38;5;28;01mimport\u001b[39;00m \u001b[38;5;21;01mgeopandas\u001b[39;00m \u001b[38;5;28;01mas\u001b[39;00m \u001b[38;5;21;01mgpd\u001b[39;00m\n\u001b[1;32m      7\u001b[0m \u001b[38;5;66;03m# create HMC object\u001b[39;00m\n\u001b[0;32m----> 8\u001b[0m hmc \u001b[38;5;241m=\u001b[39m \u001b[43mHMC\u001b[49m\u001b[43m(\u001b[49m\u001b[43mPlatform\u001b[49m\u001b[43m(\u001b[49m\u001b[43m)\u001b[49m\u001b[43m,\u001b[49m\u001b[43m \u001b[49m\u001b[43madapter\u001b[49m\u001b[38;5;241;43m=\u001b[39;49m\u001b[43mGeoPandasAdapter\u001b[49m\u001b[43m(\u001b[49m\u001b[43m)\u001b[49m\u001b[43m)\u001b[49m\n",
      "File \u001b[0;32m~/anaconda3/envs/here-pysdk/envs/main-pysdk-nagini/lib/python3.11/site-packages/here/content/hmc2/hmc.py:108\u001b[0m, in \u001b[0;36mHMC.__init__\u001b[0;34m(self, platform, catalog_hrn, version, adapter)\u001b[0m\n\u001b[1;32m    104\u001b[0m \u001b[38;5;28mself\u001b[39m\u001b[38;5;241m.\u001b[39mrecreational_vehicle_attributes \u001b[38;5;241m=\u001b[39m AdvancedNavigationAttributes(\n\u001b[1;32m    105\u001b[0m     content, \u001b[38;5;124m\"\u001b[39m\u001b[38;5;124mrecreational-vehicle-attributes\u001b[39m\u001b[38;5;124m\"\u001b[39m, adapter\n\u001b[1;32m    106\u001b[0m )\n\u001b[1;32m    107\u001b[0m \u001b[38;5;28mself\u001b[39m\u001b[38;5;241m.\u001b[39mtruck_attributes \u001b[38;5;241m=\u001b[39m TruckAttributes(content, \u001b[38;5;124m\"\u001b[39m\u001b[38;5;124mtruck-attributes\u001b[39m\u001b[38;5;124m\"\u001b[39m, adapter)\n\u001b[0;32m--> 108\u001b[0m \u001b[38;5;28mself\u001b[39m\u001b[38;5;241m.\u001b[39mtruck_service_locations \u001b[38;5;241m=\u001b[39m \u001b[43mTruckServiceLocations\u001b[49m\u001b[43m(\u001b[49m\u001b[43mcontent\u001b[49m\u001b[43m,\u001b[49m\u001b[43m \u001b[49m\u001b[38;5;124;43m\"\u001b[39;49m\u001b[38;5;124;43mhere-places\u001b[39;49m\u001b[38;5;124;43m\"\u001b[39;49m\u001b[43m,\u001b[49m\u001b[43m \u001b[49m\u001b[43madapter\u001b[49m\u001b[43m)\u001b[49m\n\u001b[1;32m    110\u001b[0m \u001b[38;5;66;03m# Metadata\u001b[39;00m\n\u001b[1;32m    111\u001b[0m \u001b[38;5;28mself\u001b[39m\u001b[38;5;241m.\u001b[39mplaces_metadata \u001b[38;5;241m=\u001b[39m Metadata(content, \u001b[38;5;124m\"\u001b[39m\u001b[38;5;124mplaces-metadata\u001b[39m\u001b[38;5;124m\"\u001b[39m, adapter)\n",
      "File \u001b[0;32m~/anaconda3/envs/here-pysdk/envs/main-pysdk-nagini/lib/python3.11/site-packages/here/content/base.py:447\u001b[0m, in \u001b[0;36mSingleLayerBinding.__init__\u001b[0;34m(self, content, layer_id, adapter, layer_type)\u001b[0m\n\u001b[1;32m    436\u001b[0m \u001b[38;5;250m\u001b[39m\u001b[38;5;124;03m\"\"\"\u001b[39;00m\n\u001b[1;32m    437\u001b[0m \u001b[38;5;124;03mInstantiate a content single-layer binding.\u001b[39;00m\n\u001b[1;32m    438\u001b[0m \n\u001b[0;32m   (...)\u001b[0m\n\u001b[1;32m    444\u001b[0m \u001b[38;5;124;03m:raises ValueError: if the specified layer is not of a supported type\u001b[39;00m\n\u001b[1;32m    445\u001b[0m \u001b[38;5;124;03m\"\"\"\u001b[39;00m\n\u001b[1;32m    446\u001b[0m \u001b[38;5;28msuper\u001b[39m()\u001b[38;5;241m.\u001b[39m\u001b[38;5;21m__init__\u001b[39m(content, adapter)\n\u001b[0;32m--> 447\u001b[0m \u001b[38;5;28mself\u001b[39m\u001b[38;5;241m.\u001b[39m_layer \u001b[38;5;241m=\u001b[39m \u001b[38;5;28;43mself\u001b[39;49m\u001b[38;5;241;43m.\u001b[39;49m\u001b[43m_catalog\u001b[49m\u001b[38;5;241;43m.\u001b[39;49m\u001b[43mget_layer\u001b[49m\u001b[43m(\u001b[49m\u001b[43mlayer_id\u001b[49m\u001b[43m)\u001b[49m\n\u001b[1;32m    448\u001b[0m \u001b[38;5;28mself\u001b[39m\u001b[38;5;241m.\u001b[39m_schema \u001b[38;5;241m=\u001b[39m \u001b[38;5;28mself\u001b[39m\u001b[38;5;241m.\u001b[39m_layer\u001b[38;5;241m.\u001b[39mget_schema()\n\u001b[1;32m    449\u001b[0m \u001b[38;5;66;03m# Only versioned layers are supported so far,\u001b[39;00m\n\u001b[1;32m    450\u001b[0m \u001b[38;5;66;03m# mainly due to caching of volatile data that is problematic\u001b[39;00m\n",
      "File \u001b[0;32m~/pysdk-nagini/here-platform/src/here/platform/catalog.py:658\u001b[0m, in \u001b[0;36mCatalog.get_layer\u001b[0;34m(self, layer_id)\u001b[0m\n\u001b[1;32m    656\u001b[0m     \u001b[38;5;28;01melse\u001b[39;00m:\n\u001b[1;32m    657\u001b[0m         \u001b[38;5;28;01mreturn\u001b[39;00m Layer(layer_id\u001b[38;5;241m=\u001b[39mlayer_id, catalog\u001b[38;5;241m=\u001b[39m\u001b[38;5;28mself\u001b[39m)\n\u001b[0;32m--> 658\u001b[0m \u001b[38;5;28;01mraise\u001b[39;00m \u001b[38;5;167;01mValueError\u001b[39;00m(\u001b[38;5;124mf\u001b[39m\u001b[38;5;124m\"\u001b[39m\u001b[38;5;124mUnknown layer id \u001b[39m\u001b[38;5;132;01m{\u001b[39;00mlayer_id\u001b[38;5;132;01m}\u001b[39;00m\u001b[38;5;124m\"\u001b[39m)\n",
      "\u001b[0;31mValueError\u001b[0m: Unknown layer id here-places"
     ]
    }
   ],
   "source": [
    "from here.platform import Platform\n",
    "from here.content.hmc2.hmc import HMC\n",
    "from here.geopandas_adapter import GeoPandasAdapter\n",
    "import pandas as pd\n",
    "import geopandas as gpd\n",
    "\n",
    "# create HMC object\n",
    "hmc = HMC(Platform(), adapter=GeoPandasAdapter())"
   ]
  },
  {
   "cell_type": "code",
   "execution_count": null,
   "metadata": {},
   "outputs": [],
   "source": [
    "# get segments dataframe from given tiles\n",
    "segment_df = hmc.topology_geometry.get(tileIds, \"segment\")\n",
    "segment_df"
   ]
  },
  {
   "cell_type": "markdown",
   "metadata": {},
   "source": [
    "### Clip segments by the bounding box\n",
    "Since the geometry objects for the segment dataframe is LineString, the intersection method will do the clipping. See the documentation of shapely: https://shapely.readthedocs.io/en/stable/manual.html"
   ]
  },
  {
   "cell_type": "code",
   "execution_count": null,
   "metadata": {},
   "outputs": [],
   "source": [
    "clipped_segments = segment_df.intersection(bb_polygon)\n",
    "segment_in_bb = segment_df[clipped_segments.apply(lambda x: x.length != 0)]\n",
    "segment_in_bb"
   ]
  },
  {
   "cell_type": "code",
   "execution_count": null,
   "metadata": {},
   "outputs": [],
   "source": [
    "# show the clipped segments and original tile boundaries\n",
    "inspect(features=segment_in_bb[\"geometry\"], tiles=tileIds, tiles_style=Color.GRAY)"
   ]
  },
  {
   "cell_type": "markdown",
   "metadata": {},
   "source": [
    "## Get functional class attribute with segment reference"
   ]
  },
  {
   "cell_type": "code",
   "execution_count": null,
   "metadata": {},
   "outputs": [],
   "source": [
    "# get functional_class attributes\n",
    "fc_df_seg = hmc.road_attributes.get_referencing(tileIds, \"functional_class\", \"segment\")\n",
    "fc_df_seg"
   ]
  },
  {
   "cell_type": "markdown",
   "metadata": {},
   "source": [
    "## Select FC = 3, 4, or 5"
   ]
  },
  {
   "cell_type": "code",
   "execution_count": null,
   "metadata": {},
   "outputs": [],
   "source": [
    "# select FC = 3, 4, 5\n",
    "fc345_df = fc_df_seg[\n",
    "    (fc_df_seg[\"attribute.functional_class\"] == \"FUNCTIONAL_CLASS_3\") |\n",
    "    (fc_df_seg[\"attribute.functional_class\"] == \"FUNCTIONAL_CLASS_4\") |\n",
    "    (fc_df_seg[\"attribute.functional_class\"] == \"FUNCTIONAL_CLASS_5\")\n",
    "]\n",
    "fc345_df"
   ]
  },
  {
   "cell_type": "code",
   "execution_count": null,
   "metadata": {},
   "outputs": [],
   "source": [
    "# change indexes into actual columns\n",
    "fc345_df = fc345_df.reset_index()\n",
    "# rename columns for easier merging later on\n",
    "fc345_df.rename(columns={'ref_partition': 'partition_id'}, inplace=True)\n",
    "fc345_df.rename(columns={'ref_identifier': 'segment_id'}, inplace=True)\n",
    "fc345_df"
   ]
  },
  {
   "cell_type": "code",
   "execution_count": null,
   "metadata": {},
   "outputs": [],
   "source": [
    "# join two dataframe by partitionId, segmentId\n",
    "segment_fc345_df = segment_in_bb.merge(fc345_df,\n",
    "                                       how=\"inner\",\n",
    "                                       on=[\"partition_id\", \"segment_id\"])\n",
    "segment_fc345_df"
   ]
  },
  {
   "cell_type": "markdown",
   "metadata": {},
   "source": [
    "## Show the segments with FC = 3, 4, or 5"
   ]
  },
  {
   "cell_type": "code",
   "execution_count": null,
   "metadata": {},
   "outputs": [],
   "source": [
    "inspect(segment_fc345_df[\"geometry\"])"
   ]
  },
  {
   "cell_type": "markdown",
   "metadata": {},
   "source": [
    "## Show different colors for each FC"
   ]
  },
  {
   "cell_type": "code",
   "execution_count": null,
   "metadata": {},
   "outputs": [],
   "source": [
    "fcs = {}\n",
    "for fc, gdf in segment_fc345_df.groupby(\"attribute.functional_class\"):\n",
    "    fcs[fc] = gdf[\"geometry\"]\n",
    "inspect(layers=fcs)"
   ]
  },
  {
   "cell_type": "markdown",
   "metadata": {},
   "source": [
    "## Extract curvatures"
   ]
  },
  {
   "cell_type": "code",
   "execution_count": null,
   "metadata": {},
   "outputs": [],
   "source": [
    "# get segment curvatures (curvatures at the nodes are not used in this notebook example)\n",
    "segment_curvature_df = hmc.adas_attributes.get(partition_ids, \"curvature_heading\")\n",
    "segment_curvature_df"
   ]
  },
  {
   "cell_type": "markdown",
   "metadata": {},
   "source": [
    "## Select segments with high curvatures"
   ]
  },
  {
   "cell_type": "code",
   "execution_count": null,
   "metadata": {},
   "outputs": [],
   "source": [
    "# create a column called abs_curvature to calculate average curvature\n",
    "segment_curvature_df[\"abs_curvature\"] = segment_curvature_df.apply(lambda x: abs(x[\"curvature\"]), axis=1)\n",
    "average_curvature = segment_curvature_df[\"abs_curvature\"].mean()\n",
    "\n",
    "# select segments with curvature higher than average\n",
    "highcurv_segments = segment_curvature_df[segment_curvature_df[\"abs_curvature\"] > average_curvature]\n",
    "\n",
    "# extract segment_id from segment anchors\n",
    "highcurv_segments = highcurv_segments.copy()\n",
    "highcurv_segments[\"segment_id\"] = highcurv_segments.apply(\n",
    "    lambda x: x[\"segment_anchors\"][0].oriented_segment_ref[0][0].segment_id,\n",
    "    axis=1\n",
    ")\n",
    "\n",
    "highcurv_segments"
   ]
  },
  {
   "cell_type": "markdown",
   "metadata": {},
   "source": [
    "## Join two dataframes\n",
    "Inner join between the dataframe with FC=3,4,5 and the dataframe with high curvatures"
   ]
  },
  {
   "cell_type": "code",
   "execution_count": null,
   "metadata": {},
   "outputs": [],
   "source": [
    "segment_fc345_highcurv_df = segment_fc345_df.merge(highcurv_segments,\n",
    "                                                   how=\"inner\",\n",
    "                                                   on=[\"partition_id\", \"segment_id\"])\n",
    "segment_fc345_highcurv_df"
   ]
  },
  {
   "cell_type": "code",
   "execution_count": null,
   "metadata": {},
   "outputs": [],
   "source": [
    "# drop abs_curvature which was used to calculate average curvature\n",
    "merged_df = segment_fc345_highcurv_df.drop(\"abs_curvature\", axis=1)\n",
    "merged_df.columns"
   ]
  },
  {
   "cell_type": "markdown",
   "metadata": {},
   "source": [
    "## Show the survived segments"
   ]
  },
  {
   "cell_type": "code",
   "execution_count": null,
   "metadata": {},
   "outputs": [],
   "source": [
    "inspect(merged_df[\"geometry\"])"
   ]
  },
  {
   "cell_type": "markdown",
   "metadata": {},
   "source": [
    "<span style=\"float:left; margin-top:3px;\"><img src=\"https://www.here.com/themes/custom/here_base_theme_v2/logo.svg\" alt=\"HERE Logo\" height=\"60\" width=\"60\"></span><span style=\"float:right; width:90%;\"><sub><b>Copyright (c) 2020-2021 HERE Global B.V. and its affiliate(s). All rights reserved.</b>\n",
    "This software, including documentation, is protected by copyright controlled by HERE. All rights are reserved. Copying, including reproducing, storing, adapting or translating, any or all of this material requires the prior written consent of HERE. This material also contains confidential information which may not be disclosed to others without the prior written consent of HERE.</sub></span>"
   ]
  }
 ],
 "metadata": {
  "kernelspec": {
   "display_name": "Python 3 (ipykernel)",
   "language": "python",
   "name": "python3"
  },
  "language_info": {
   "codemirror_mode": {
    "name": "ipython",
    "version": 3
   },
   "file_extension": ".py",
   "mimetype": "text/x-python",
   "name": "python",
   "nbconvert_exporter": "python",
   "pygments_lexer": "ipython3",
   "version": "3.11.9"
  }
 },
 "nbformat": 4,
 "nbformat_minor": 4
}
