{
 "cells": [
  {
   "cell_type": "markdown",
   "metadata": {
    "pycharm": {}
   },
   "source": [
    "# Functional Class and Curvature Analysis\n",
    "This notebook illustrates the complete analysis example using Here Map Content (HMC) attributes.\n",
    "\n",
    "### Dependencies\n",
    "* Catalogs: [rib-2](https://platform.here.com/data/hrn:here:data::olp-here:rib-2)\n",
    "* Layers: [Topology Geometry](https://platform.here.com/data/hrn:here:data::olp-here:rib-2/topology-geometry), [Road Attributes](https://platform.here.com/data/hrn:here:data::olp-here:rib-2/road-attributes), [ADAS Attributes](https://platform.here.com/data/hrn:here:data::olp-here:rib-2/adas-attributes)\n",
    "\n",
    "### Workflow\n",
    "* Start with a bounding box that contains portions of two tiles\n",
    "* Extract geometry for the two tiles\n",
    "* Keep only the segments that are (at least partially) in original bounding box\n",
    "* Extract Functional Class (FC) attributes for those segments\n",
    "* Select segments with FC = 3, 4, and 5\n",
    "* Extract curvature for the survived segments\n",
    "* Analyze average curvature\n",
    "* Drop segments below the average curvature"
   ]
  },
  {
   "cell_type": "markdown",
   "metadata": {},
   "source": [
    "## Set API key (here.access.key.secret)"
   ]
  },
  {
   "cell_type": "code",
   "execution_count": null,
   "metadata": {},
   "outputs": [],
   "source": [
    "import os\n",
    "os.environ[\"LS_API_KEY\"] = \"YOUR HERE API KEY\""
   ]
  },
  {
   "cell_type": "markdown",
   "metadata": {
    "pycharm": {}
   },
   "source": [
    "## Get partition ID's from a given bounding box"
   ]
  },
  {
   "cell_type": "code",
   "execution_count": null,
   "metadata": {
    "pycharm": {
     "is_executing": false
    }
   },
   "outputs": [],
   "source": [
    "from here.geotiles.heretile import in_bounding_box\n",
    "from shapely.geometry import Point\n",
    "\n",
    "zoom_level = 12\n",
    "west = 13.41\n",
    "east = 13.49\n",
    "south = 52.50\n",
    "north = 52.54\n",
    "center = Point(west, south)\n",
    "tileIds = list(in_bounding_box(west=west, south=south, east=east, north=north, level=zoom_level))\n",
    "\n",
    "# partition ID's: string representation of tile IDs - this will be used for extracting attributes later\n",
    "partition_ids = [str(tile) for tile in tileIds]\n",
    "print(\"partition ids:\", partition_ids)"
   ]
  },
  {
   "cell_type": "markdown",
   "metadata": {},
   "source": [
    "## Visualize the bounding box and tile boundaries\n",
    "- bounding box: Red\n",
    "- tile boundaries: Gray"
   ]
  },
  {
   "cell_type": "code",
   "execution_count": null,
   "metadata": {},
   "outputs": [],
   "source": [
    "from here.inspector import inspect\n",
    "from here.inspector.styles import Color\n",
    "from shapely.geometry import Polygon\n",
    "\n",
    "# construct a bounding box geojson\n",
    "bb_polygon = Polygon([(west, south), (west, north), (east, north), (east, south), (west, south)])\n",
    "\n",
    "# create inspect object with tile boundaries and the bounding box\n",
    "inspect(layers={\"bounding_box\": [bb_polygon]},\n",
    "        tiles=tileIds,\n",
    "        center=center,\n",
    "        zoom=11,\n",
    "        layers_style={\"bounding_box\": Color.RED},\n",
    "        tiles_style=Color.GRAY)"
   ]
  },
  {
   "cell_type": "markdown",
   "metadata": {},
   "source": [
    "## Extract topology geometry and clip by bounding box"
   ]
  },
  {
   "cell_type": "code",
   "execution_count": null,
   "metadata": {},
   "outputs": [],
   "source": [
    "from here.platform import Platform\n",
    "from here.content.hmc2.hmc import HMC\n",
    "from here.geopandas_adapter import GeoPandasAdapter\n",
    "import pandas as pd\n",
    "import geopandas as gpd\n",
    "\n",
    "# create HMC object\n",
    "hmc = HMC(Platform(), adapter=GeoPandasAdapter())"
   ]
  },
  {
   "cell_type": "code",
   "execution_count": null,
   "metadata": {},
   "outputs": [],
   "source": [
    "# get segments dataframe from given tiles\n",
    "segment_df = hmc.topology_geometry.get(tileIds, \"segment\")\n",
    "segment_df"
   ]
  },
  {
   "cell_type": "markdown",
   "metadata": {},
   "source": [
    "### Clip segments by the bounding box\n",
    "Since the geometry objects for the segment dataframe is LineString, the intersection method will do the clipping. See the documentation of shapely: https://shapely.readthedocs.io/en/stable/manual.html"
   ]
  },
  {
   "cell_type": "code",
   "execution_count": null,
   "metadata": {},
   "outputs": [],
   "source": [
    "clipped_segments = segment_df.intersection(bb_polygon)\n",
    "segment_in_bb = segment_df[clipped_segments.apply(lambda x: x.length != 0)]\n",
    "segment_in_bb"
   ]
  },
  {
   "cell_type": "code",
   "execution_count": null,
   "metadata": {},
   "outputs": [],
   "source": [
    "# show the clipped segments and original tile boundaries\n",
    "inspect(features=segment_in_bb[\"geometry\"], tiles=tileIds, tiles_style=Color.GRAY)"
   ]
  },
  {
   "cell_type": "markdown",
   "metadata": {},
   "source": [
    "## Get functional class attribute with segment reference"
   ]
  },
  {
   "cell_type": "code",
   "execution_count": null,
   "metadata": {},
   "outputs": [],
   "source": [
    "# get functional_class attributes\n",
    "fc_df_seg = hmc.road_attributes.get_referencing(tileIds, \"functional_class\", \"segment\")\n",
    "fc_df_seg"
   ]
  },
  {
   "cell_type": "markdown",
   "metadata": {},
   "source": [
    "## Select FC = 3, 4, or 5"
   ]
  },
  {
   "cell_type": "code",
   "execution_count": null,
   "metadata": {},
   "outputs": [],
   "source": [
    "# select FC = 3, 4, 5\n",
    "fc345_df = fc_df_seg[\n",
    "    (fc_df_seg[\"attribute.functional_class\"] == \"FUNCTIONAL_CLASS_3\") |\n",
    "    (fc_df_seg[\"attribute.functional_class\"] == \"FUNCTIONAL_CLASS_4\") |\n",
    "    (fc_df_seg[\"attribute.functional_class\"] == \"FUNCTIONAL_CLASS_5\")\n",
    "]\n",
    "fc345_df"
   ]
  },
  {
   "cell_type": "code",
   "execution_count": null,
   "metadata": {},
   "outputs": [],
   "source": [
    "# change indexes into actual columns\n",
    "fc345_df = fc345_df.reset_index()\n",
    "# rename columns for easier merging later on\n",
    "fc345_df.rename(columns={'ref_partition': 'partition_id'}, inplace=True)\n",
    "fc345_df.rename(columns={'ref_identifier': 'segment_id'}, inplace=True)\n",
    "fc345_df"
   ]
  },
  {
   "cell_type": "code",
   "execution_count": null,
   "metadata": {},
   "outputs": [],
   "source": [
    "# join two dataframe by partitionId, segmentId\n",
    "segment_fc345_df = segment_in_bb.merge(fc345_df,\n",
    "                                       how=\"inner\",\n",
    "                                       on=[\"partition_id\", \"segment_id\"])\n",
    "segment_fc345_df"
   ]
  },
  {
   "cell_type": "markdown",
   "metadata": {},
   "source": [
    "## Show the segments with FC = 3, 4, or 5"
   ]
  },
  {
   "cell_type": "code",
   "execution_count": null,
   "metadata": {},
   "outputs": [],
   "source": [
    "inspect(segment_fc345_df[\"geometry\"])"
   ]
  },
  {
   "cell_type": "markdown",
   "metadata": {},
   "source": [
    "## Show different colors for each FC"
   ]
  },
  {
   "cell_type": "code",
   "execution_count": null,
   "metadata": {},
   "outputs": [],
   "source": [
    "fcs = {}\n",
    "for fc, gdf in segment_fc345_df.groupby(\"attribute.functional_class\"):\n",
    "    fcs[fc] = gdf[\"geometry\"]\n",
    "inspect(layers=fcs)"
   ]
  },
  {
   "cell_type": "markdown",
   "metadata": {},
   "source": [
    "## Extract curvatures"
   ]
  },
  {
   "cell_type": "code",
   "execution_count": null,
   "metadata": {},
   "outputs": [],
   "source": [
    "# get segment curvatures (curvatures at the nodes are not used in this notebook example)\n",
    "segment_curvature_df = hmc.adas_attributes.get(partition_ids, \"curvature_heading\")\n",
    "segment_curvature_df"
   ]
  },
  {
   "cell_type": "markdown",
   "metadata": {},
   "source": [
    "## Select segments with high curvatures"
   ]
  },
  {
   "cell_type": "code",
   "execution_count": null,
   "metadata": {},
   "outputs": [],
   "source": [
    "# create a column called abs_curvature to calculate average curvature\n",
    "segment_curvature_df[\"abs_curvature\"] = segment_curvature_df.apply(lambda x: abs(x[\"curvature\"]), axis=1)\n",
    "average_curvature = segment_curvature_df[\"abs_curvature\"].mean()\n",
    "\n",
    "# select segments with curvature higher than average\n",
    "highcurv_segments = segment_curvature_df[segment_curvature_df[\"abs_curvature\"] > average_curvature]\n",
    "\n",
    "# extract segment_id from segment anchors\n",
    "highcurv_segments = highcurv_segments.copy()\n",
    "highcurv_segments[\"segment_id\"] = highcurv_segments.apply(\n",
    "    lambda x: x[\"segment_anchors\"][0].oriented_segment_ref[0][0].segment_id,\n",
    "    axis=1\n",
    ")\n",
    "\n",
    "highcurv_segments"
   ]
  },
  {
   "cell_type": "markdown",
   "metadata": {},
   "source": [
    "## Join two dataframes\n",
    "Inner join between the dataframe with FC=3,4,5 and the dataframe with high curvatures"
   ]
  },
  {
   "cell_type": "code",
   "execution_count": null,
   "metadata": {},
   "outputs": [],
   "source": [
    "segment_fc345_highcurv_df = segment_fc345_df.merge(highcurv_segments,\n",
    "                                                   how=\"inner\",\n",
    "                                                   on=[\"partition_id\", \"segment_id\"])\n",
    "segment_fc345_highcurv_df"
   ]
  },
  {
   "cell_type": "code",
   "execution_count": null,
   "metadata": {},
   "outputs": [],
   "source": [
    "# drop abs_curvature which was used to calculate average curvature\n",
    "merged_df = segment_fc345_highcurv_df.drop(\"abs_curvature\", axis=1)\n",
    "merged_df.columns"
   ]
  },
  {
   "cell_type": "markdown",
   "metadata": {},
   "source": [
    "## Show the survived segments"
   ]
  },
  {
   "cell_type": "code",
   "execution_count": null,
   "metadata": {},
   "outputs": [],
   "source": [
    "inspect(merged_df[\"geometry\"])"
   ]
  },
  {
   "cell_type": "markdown",
   "metadata": {},
   "source": [
    "<!--\n",
    "from urllib.parse import quote, unquote\n",
    "svg = \"\"\"<svg width=\"40\" height=\"48\" viewBox=\"0 0 40 48\" fill=\"none\" xmlns=\"http://www.w3.org/2000/svg\"><path class=\"triangle\" d=\"M11,36.8l-5.5,5.5L0,36.8H11z\" fill=\"#48DAD0\"></path><path class=\"HERE\" d=\"M19.1,24.2c-1.2-1.4-1.1-2.1-0.4-2.8c0.9-0.9,1.7-0.5,2.7,0.5L19.1,24.2z M30.9,9.2c0.9-0.9,1.7-0.5,2.7,0.5\n",
    "    L31.3,12C30.1,10.7,30.2,9.9,30.9,9.2z M38,11.6c-1.1,1.6-2.9,4.2-4.9,2.2l5-5c-0.4-0.5-0.8-0.9-1-1.1c-2.7-2.7-5.7-2.7-8-0.4\n",
    "\tc-1.6,1.6-2,3.4-1.5,5.1l-1.6-1.8c-0.5,0.3-2.4,1.9-0.9,4.5l-1.8-1.5l-2.4,2.4l3.2,3.2c-2.5-1.9-5.1-1.8-7.2,0.4\n",
    "\tc-2.3,2.3-2.1,5-0.4,7.3l-0.3-0.3c-2.3-2.3-4.7-1.5-5.9-0.3c-0.9,0.9-1.5,2.2-1.3,3.1L4,24.6l-2.6,2.6l9.6,9.6h5.2l-3.5-3.5\n",
    "\tc-1.8-1.8-1.8-2.8-1-3.7c0.8-0.8,1.8-0.3,3.6,1.4l3.4,3.4l2.6-2.6l-3.2-3.2c2.3,1.8,5.1,1.9,7.7-0.6l0,0c1.5-1.4,2-2.8,2-2.8\n",
    "\tl-1.9-1.3c-1.1,1.6-2.9,4.2-4.9,2.3l5-5l3.1,3.1l2.7-2.7l-3.9-3.9c-1.8-1.8-0.7-3.5,0-4.1c0.4,0.7,0.9,1.5,1.5,2.1\n",
    "\tc2.5,2.5,5.7,3,8.6,0.2l0,0c1.5-1.4,2-2.8,2-2.8S38,11.6,38,11.6z\" fill=\"#000000\"></path></svg>\n",
    "\"\"\"\n",
    "print(f\"\"\"![HERE](data:image/svg+xml,{quote(svg)})\n",
    "<span style=\"float:right; width:90%;\"><sub><b>Copyright (c) 2020-2025 HERE Global B.V. and its affiliate(s). All rights reserved.</b>\n",
    "This software, including documentation, is protected by copyright controlled by HERE. All rights are reserved. Copying, including reproducing, \n",
    "storing, adapting or translating, any or all of this material requires the prior written consent of HERE. This material also contains confidential \n",
    "information which may not be disclosed to others without the prior written consent of HERE.</sub></span>\"\"\")\n",
    "-->\n",
    "![HERE](data:image/svg+xml,%3Csvg%20width%3D%2240%22%20height%3D%2248%22%20viewBox%3D%220%200%2040%2048%22%20fill%3D%22none%22%20xmlns%3D%22http%3A//www.w3.org/2000/svg%22%3E%3Cpath%20class%3D%22triangle%22%20d%3D%22M11%2C36.8l-5.5%2C5.5L0%2C36.8H11z%22%20fill%3D%22%2348DAD0%22%3E%3C/path%3E%3Cpath%20class%3D%22HERE%22%20d%3D%22M19.1%2C24.2c-1.2-1.4-1.1-2.1-0.4-2.8c0.9-0.9%2C1.7-0.5%2C2.7%2C0.5L19.1%2C24.2z%20M30.9%2C9.2c0.9-0.9%2C1.7-0.5%2C2.7%2C0.5%0A%20%20%20%20L31.3%2C12C30.1%2C10.7%2C30.2%2C9.9%2C30.9%2C9.2z%20M38%2C11.6c-1.1%2C1.6-2.9%2C4.2-4.9%2C2.2l5-5c-0.4-0.5-0.8-0.9-1-1.1c-2.7-2.7-5.7-2.7-8-0.4%0A%09c-1.6%2C1.6-2%2C3.4-1.5%2C5.1l-1.6-1.8c-0.5%2C0.3-2.4%2C1.9-0.9%2C4.5l-1.8-1.5l-2.4%2C2.4l3.2%2C3.2c-2.5-1.9-5.1-1.8-7.2%2C0.4%0A%09c-2.3%2C2.3-2.1%2C5-0.4%2C7.3l-0.3-0.3c-2.3-2.3-4.7-1.5-5.9-0.3c-0.9%2C0.9-1.5%2C2.2-1.3%2C3.1L4%2C24.6l-2.6%2C2.6l9.6%2C9.6h5.2l-3.5-3.5%0A%09c-1.8-1.8-1.8-2.8-1-3.7c0.8-0.8%2C1.8-0.3%2C3.6%2C1.4l3.4%2C3.4l2.6-2.6l-3.2-3.2c2.3%2C1.8%2C5.1%2C1.9%2C7.7-0.6l0%2C0c1.5-1.4%2C2-2.8%2C2-2.8%0A%09l-1.9-1.3c-1.1%2C1.6-2.9%2C4.2-4.9%2C2.3l5-5l3.1%2C3.1l2.7-2.7l-3.9-3.9c-1.8-1.8-0.7-3.5%2C0-4.1c0.4%2C0.7%2C0.9%2C1.5%2C1.5%2C2.1%0A%09c2.5%2C2.5%2C5.7%2C3%2C8.6%2C0.2l0%2C0c1.5-1.4%2C2-2.8%2C2-2.8S38%2C11.6%2C38%2C11.6z%22%20fill%3D%22%23000000%22%3E%3C/path%3E%3C/svg%3E%0A)\n",
    "<span style=\"float:right; width:90%;\"><sub><b>Copyright (c) 2020-2025 HERE Global B.V. and its affiliate(s). All rights reserved.</b>\n",
    "This software, including documentation, is protected by copyright controlled by HERE. All rights are reserved. Copying, including reproducing, \n",
    "storing, adapting or translating, any or all of this material requires the prior written consent of HERE. This material also contains confidential \n",
    "information which may not be disclosed to others without the prior written consent of HERE.</sub></span>"
   ]
  }
 ],
 "metadata": {
  "kernelspec": {
   "display_name": "Python 3 (ipykernel)",
   "language": "python",
   "name": "python3"
  },
  "language_info": {
   "codemirror_mode": {
    "name": "ipython",
    "version": 3
   },
   "file_extension": ".py",
   "mimetype": "text/x-python",
   "name": "python",
   "nbconvert_exporter": "python",
   "pygments_lexer": "ipython3",
   "version": "3.12.1"
  }
 },
 "nbformat": 4,
 "nbformat_minor": 4
}
