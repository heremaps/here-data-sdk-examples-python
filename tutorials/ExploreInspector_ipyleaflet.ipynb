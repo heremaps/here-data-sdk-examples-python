{
 "cells": [
  {
   "cell_type": "markdown",
   "id": "dental-feedback",
   "metadata": {},
   "source": [
    "# Inspector Introduction\n",
    "\n",
    "**In this notebook we introduce the Inspector component of HERE Data SDK for Python and demonstrate advanced styling with its ipyleaflet-based backend.**\n",
    "\n",
    "**Features:**\n",
    "* Show simple usage patterns related to the inspector.\n",
    "* Show more advanced customization use cases.\n",
    "* Show ipyleaflet-specific styling options\n",
    "\n",
    "**Dependencies:**\n",
    "* Sample GeoJSON data, obtained from the freely available content on [GitHub](https://github.com/johan/world.geo.json) and available in the sample_datasets folder provided with this notebook\n",
    "* Catalog: [HERE GeoJSON Samples](https://platform.here.com/data/hrn:here:data::olp-here:here-geojson-samples/overview)\n",
    "* Languages: Python"
   ]
  },
  {
   "cell_type": "markdown",
   "id": "pointed-september",
   "metadata": {},
   "source": [
    "## Sample datasets\n",
    "\n",
    "Load datasets from various sources that will be shown using the inspector."
   ]
  },
  {
   "cell_type": "code",
   "execution_count": null,
   "id": "4be669ec-e99c-42e8-b9bf-ef7e0318f6a4",
   "metadata": {},
   "outputs": [],
   "source": [
    "import json\n",
    "import geopandas as gpd\n",
    "from shapely.geometry import shape"
   ]
  },
  {
   "cell_type": "code",
   "execution_count": null,
   "id": "loving-aircraft",
   "metadata": {
    "ExecuteTime": {
     "end_time": "2021-05-14T13:50:44.726165Z",
     "start_time": "2021-05-14T13:50:44.710652Z"
    }
   },
   "outputs": [],
   "source": [
    "with open(\"sample_datasets/DEU.geo.json\") as f:\n",
    "    data1 = json.load(f) # this is a GeoJSON FeatureCollection with only Germany\n",
    "\n",
    "ger = data1[\"features\"][0] # this is the GeoJSON Feature of Germany"
   ]
  },
  {
   "cell_type": "code",
   "execution_count": null,
   "id": "hybrid-hospital",
   "metadata": {
    "ExecuteTime": {
     "end_time": "2021-05-14T13:50:45.101808Z",
     "start_time": "2021-05-14T13:50:44.728159Z"
    }
   },
   "outputs": [],
   "source": [
    "with open(\"sample_datasets/FRA.geo.json\") as f:\n",
    "    data2 = json.load(f) # this is a GeoJSON FeatureCollection with only France\n",
    "\n",
    "fra = data2[\"features\"][0] # this is the GeoJSON Feature of France"
   ]
  },
  {
   "cell_type": "code",
   "execution_count": null,
   "id": "therapeutic-survivor",
   "metadata": {
    "ExecuteTime": {
     "end_time": "2021-05-14T13:50:45.633236Z",
     "start_time": "2021-05-14T13:50:45.103806Z"
    }
   },
   "outputs": [],
   "source": [
    "with open(\"sample_datasets/IRL.geo.json\") as f:\n",
    "    data3 = json.load(f) # this is a GeoJSON FeatureCollection with only Ireland\n",
    "\n",
    "irl = data3[\"features\"][0] # this is the GeoJSON Feature of Ireland"
   ]
  },
  {
   "cell_type": "code",
   "execution_count": null,
   "id": "several-currency",
   "metadata": {
    "ExecuteTime": {
     "end_time": "2021-05-14T13:50:45.883315Z",
     "start_time": "2021-05-14T13:50:45.633236Z"
    }
   },
   "outputs": [],
   "source": [
    "# This is a GeoJSON FeatureCollection with Germany and France\n",
    "data4 = {\n",
    "    \"type\": \"FeatureCollection\",\n",
    "    \"features\": [ger, fra]\n",
    "}"
   ]
  },
  {
   "cell_type": "code",
   "execution_count": null,
   "id": "aggressive-spotlight",
   "metadata": {
    "ExecuteTime": {
     "end_time": "2021-05-14T13:50:46.229436Z",
     "start_time": "2021-05-14T13:50:45.885314Z"
    }
   },
   "outputs": [],
   "source": [
    "with open(\"sample_datasets/countries.geo.json\") as f:\n",
    "    data5 = json.load(f) # this is a GeoJSON FeatureCollection with all the countries of the world"
   ]
  },
  {
   "cell_type": "code",
   "execution_count": null,
   "id": "equivalent-landing",
   "metadata": {
    "ExecuteTime": {
     "end_time": "2021-05-14T13:50:47.336656Z",
     "start_time": "2021-05-14T13:50:46.232434Z"
    }
   },
   "outputs": [],
   "source": [
    "rows = [\n",
    "    {\n",
    "        \"id\": feat[\"id\"], \n",
    "        \"name\": feat[\"properties\"][\"name\"], \n",
    "        \"geometry\": shape(feat[\"geometry\"])\n",
    "    } for feat in data5[\"features\"] if feat[\"properties\"][\"name\"].lower().startswith(\"po\")\n",
    "]\n",
    "\n",
    "gdf1 = gpd.GeoDataFrame.from_records(rows, index=\"id\").set_geometry(\"geometry\")\n",
    "gs1 = gdf1.geometry\n",
    "\n",
    "gdf1 # This is a GeoDataFrame with Poland and Portugal"
   ]
  },
  {
   "cell_type": "markdown",
   "id": "outdoor-chicken",
   "metadata": {},
   "source": [
    "Loading higher resolution country polygons from a HERE platform catalog"
   ]
  },
  {
   "cell_type": "code",
   "execution_count": null,
   "id": "327932a6-a578-456a-b6e8-a4b09f7f6589",
   "metadata": {},
   "outputs": [],
   "source": [
    "from here.platform import Platform\n",
    "from here.geopandas_adapter import GeoPandasAdapter"
   ]
  },
  {
   "cell_type": "code",
   "execution_count": null,
   "id": "initial-profit",
   "metadata": {
    "ExecuteTime": {
     "end_time": "2021-05-14T13:50:52.333945Z",
     "start_time": "2021-05-14T13:50:47.336656Z"
    }
   },
   "outputs": [],
   "source": [
    "platform = Platform(adapter=GeoPandasAdapter())\n",
    "sample_catalog = platform.get_catalog(\"hrn:here:data::olp-here:here-geojson-samples\")\n",
    "borders_layer = sample_catalog.get_layer(\"country-borders\")"
   ]
  },
  {
   "cell_type": "code",
   "execution_count": null,
   "id": "identical-insured",
   "metadata": {
    "ExecuteTime": {
     "end_time": "2021-05-14T13:50:59.303966Z",
     "start_time": "2021-05-14T13:50:52.333945Z"
    }
   },
   "outputs": [],
   "source": [
    "gdf2 = borders_layer.read_partitions(partition_ids=[1419, 1422])\n",
    "gs2 = gdf2.geometry\n",
    "\n",
    "gdf2 # This is a GeoDataFrame with some country polygons"
   ]
  },
  {
   "cell_type": "code",
   "execution_count": null,
   "id": "republican-render",
   "metadata": {
    "ExecuteTime": {
     "end_time": "2021-05-14T13:50:59.680286Z",
     "start_time": "2021-05-14T13:50:59.305961Z"
    }
   },
   "outputs": [],
   "source": [
    "# Example shapely geometries: points, linestrings and polygons\n",
    "\n",
    "from shapely.geometry import shape, Point, MultiPoint, LineString, Polygon\n",
    "\n",
    "pt1 = Point(30, 50)\n",
    "pt2 = Point(32, 49)\n",
    "pt3 = Point(31, 52)\n",
    "\n",
    "ls1 = LineString([(29, 49), (30, 51), (31, 49), (32, 50), (33, 51)])\n",
    "ls2 = LineString([(30, 47), (31, 48), (29, 49), (31, 50), (29, 51)])\n",
    "\n",
    "poly1 = Polygon([(28, 46), (28, 52), (29, 53), (31, 53), (33, 48), (32, 47), (28, 46)])\n",
    "poly2 = MultiPoint([(40, 51), (43, 49)]).buffer(3)"
   ]
  },
  {
   "cell_type": "markdown",
   "id": "confident-replacement",
   "metadata": {},
   "source": [
    "## Inspecting datasets\n",
    "\n",
    "The inspector is able to visualize data in different formats. Supported are:\n",
    "\n",
    "- `gpd.GeoSeries`\n",
    "- `gpd.GeoDataFrame`\n",
    "- a python container, e.g. list, of shapely `BaseGeometry` objects, such as `Point`, `LineString` and `Polygon`\n",
    "- one GeoJSON `FeatureCollection`, as python dictionary\n",
    "- a python container, e.g. list, of GeoJSON `Feature`, each as python dictionary\n",
    "\n",
    "Geographic features may be inspected singly or layered.\n",
    "Each layer may have its own color or custom style.\n",
    "\n",
    "Inspector can be used in 3 ways:\n",
    "\n",
    "1. In one line, through the simplified `inspect` function.\n",
    "2. Instantiating an implementation of `Inspector`, such as `IpyleafletInspector` and configuring its properties.\n",
    "3. Accessing the underlaying inspector implementation via the `backend` function,\n",
    "   for `IpyleaftletInspector` this exposes the `ipyleaflet.Map` object that the user\n",
    "   can further customize to leverage all the capabilities of _ipyleaflet_.\n",
    "\n",
    "For more information, please refer to the documentation of the `inspect` function and `Inspector` interface."
   ]
  },
  {
   "cell_type": "markdown",
   "id": "southwest-joining",
   "metadata": {},
   "source": [
    "### 1. The `inspect` function and basic styling\n",
    "\n",
    "This function opens an inspector and loads geodata in a single call. It can be used to quicly inspect the data, if no further customizations are needed.\n",
    "\n",
    "You can visualize one or more datadasets. Each dataset may have a name and a style. Names and styles are default empty. Default style is a color automatically assigned by the inspector. You can specify a name and/or a different color, or a more complex rendering style as explained in the second part."
   ]
  },
  {
   "cell_type": "markdown",
   "id": "04ab1a10-5fc4-4ec9-89dd-85207186e530",
   "metadata": {},
   "source": [
    "If you have a HERE API key, you can set it as shown here. The inspect works also without an API key, but specifying a key gives you access to HERE base maps and HERE content by default."
   ]
  },
  {
   "cell_type": "code",
   "execution_count": null,
   "id": "governmental-medicaid",
   "metadata": {
    "ExecuteTime": {
     "end_time": "2021-05-14T13:50:59.712204Z",
     "start_time": "2021-05-14T13:50:59.682284Z"
    }
   },
   "outputs": [],
   "source": [
    "from here.inspector import options\n",
    "\n",
    "options.api_key = None # Set your HERE API key to use the HERE tiles by default"
   ]
  },
  {
   "cell_type": "markdown",
   "id": "f8b9b817-a2f4-4187-be73-f3064fb1e67c",
   "metadata": {},
   "source": [
    "For more information about `options` and the options available, please see the section below in this notebook."
   ]
  },
  {
   "cell_type": "markdown",
   "id": "alpha-hayes",
   "metadata": {},
   "source": [
    "#### Empty inspectors"
   ]
  },
  {
   "cell_type": "code",
   "execution_count": null,
   "id": "7f2bd91f-4de0-4c60-8bf3-558b26f478e9",
   "metadata": {},
   "outputs": [],
   "source": [
    "from here.inspector import inspect\n",
    "\n",
    "inspect()"
   ]
  },
  {
   "cell_type": "code",
   "execution_count": null,
   "id": "8df6732a-ff2d-4a57-8fe9-6d7246d8fd02",
   "metadata": {},
   "outputs": [],
   "source": [
    "# With different HERE tiles\n",
    "from here.inspector import here_basemaps, IpyleafletInspector\n",
    "\n",
    "here_inspector = IpyleafletInspector().set_basemap(here_basemaps.terrainDay)\n",
    "here_inspector.show()"
   ]
  },
  {
   "cell_type": "code",
   "execution_count": null,
   "id": "cfafc80c-34bd-4287-9a00-af725fba29cb",
   "metadata": {},
   "outputs": [],
   "source": [
    "# Centered in Buenos Aires\n",
    "\n",
    "inspect(center=Point(-58.381667, -34.603333), zoom=10)"
   ]
  },
  {
   "cell_type": "markdown",
   "id": "front-hunter",
   "metadata": {},
   "source": [
    "#### GeoSeries and GeoDataFrame"
   ]
  },
  {
   "cell_type": "code",
   "execution_count": null,
   "id": "catholic-court",
   "metadata": {
    "ExecuteTime": {
     "end_time": "2021-05-14T13:51:00.802543Z",
     "start_time": "2021-05-14T13:51:00.074394Z"
    },
    "tags": []
   },
   "outputs": [],
   "source": [
    "# Inspect one single GeoDataFrame\n",
    "\n",
    "inspect(gdf1) # just the content"
   ]
  },
  {
   "cell_type": "code",
   "execution_count": null,
   "id": "eight-verification",
   "metadata": {
    "ExecuteTime": {
     "end_time": "2021-05-14T13:51:01.506641Z",
     "start_time": "2021-05-14T13:51:00.803541Z"
    }
   },
   "outputs": [],
   "source": [
    "# Inspect one single GeoSeries\n",
    "\n",
    "inspect(gs2, \"An example GeoSeries\") # content and name"
   ]
  },
  {
   "cell_type": "code",
   "execution_count": null,
   "id": "major-satisfaction",
   "metadata": {
    "ExecuteTime": {
     "end_time": "2021-05-14T13:51:02.055450Z",
     "start_time": "2021-05-14T13:51:01.508635Z"
    }
   },
   "outputs": [],
   "source": [
    "# Inspect multiple GeoSeries and GeoDataFrames, as independent layers\n",
    "\n",
    "inspect(layers={\"A\": gdf1, \"B\": gs2}) # content with names, default-styled"
   ]
  },
  {
   "cell_type": "markdown",
   "id": "suspected-bachelor",
   "metadata": {},
   "source": [
    "#### GeoJSON"
   ]
  },
  {
   "cell_type": "code",
   "execution_count": null,
   "id": "circular-australia",
   "metadata": {
    "ExecuteTime": {
     "end_time": "2021-05-14T13:51:02.585472Z",
     "start_time": "2021-05-14T13:51:02.057448Z"
    }
   },
   "outputs": [],
   "source": [
    "# Inspect one single GeoJSON FeatureCollection\n",
    "from here.inspector.styles import Color\n",
    "\n",
    "inspect(data4, \"Central EU\", Color.BLUE) # content, name and style"
   ]
  },
  {
   "cell_type": "code",
   "execution_count": null,
   "id": "pediatric-colors",
   "metadata": {
    "ExecuteTime": {
     "end_time": "2021-05-14T13:51:03.007753Z",
     "start_time": "2021-05-14T13:51:02.587469Z"
    }
   },
   "outputs": [],
   "source": [
    "# Inspect one single GeoJSON Feature\n",
    "\n",
    "inspect(fra, style=Color.RED) # unnamed, just style"
   ]
  },
  {
   "cell_type": "markdown",
   "id": "distinct-clarity",
   "metadata": {},
   "source": [
    "#### Shapely geometries"
   ]
  },
  {
   "cell_type": "code",
   "execution_count": null,
   "id": "seventh-fabric",
   "metadata": {
    "ExecuteTime": {
     "end_time": "2021-05-14T13:51:03.500829Z",
     "start_time": "2021-05-14T13:51:03.009747Z"
    }
   },
   "outputs": [],
   "source": [
    "# Inspect more shapely geometries in one layer\n",
    "\n",
    "inspect([pt1, pt2, ls1, poly1]) # unnamed, default-styled"
   ]
  },
  {
   "cell_type": "code",
   "execution_count": null,
   "id": "respective-picking",
   "metadata": {
    "ExecuteTime": {
     "end_time": "2021-05-14T13:51:04.214199Z",
     "start_time": "2021-05-14T13:51:03.501824Z"
    }
   },
   "outputs": [],
   "source": [
    "# Inspect shapely geometries in multiple layer\n",
    "\n",
    "inspect(layers={\n",
    "    \"Points and lines A\": [pt1, ls1],\n",
    "    \"Points and lines B\": [pt2, pt3, ls2],\n",
    "    \"Polygons\": [poly1, poly2]\n",
    "}) # named, each layer default-styled"
   ]
  },
  {
   "cell_type": "markdown",
   "id": "backed-commitment",
   "metadata": {},
   "source": [
    "#### Tiling grid\n",
    "\n",
    "A tiling grid can be added to every inspector which will draw the borders of the HEREtile partitions given. You must specify which tiles to display by providing a list or `Series` of HEREtile partition IDs."
   ]
  },
  {
   "cell_type": "code",
   "execution_count": null,
   "id": "touched-electronics",
   "metadata": {
    "ExecuteTime": {
     "end_time": "2021-05-14T13:51:04.667479Z",
     "start_time": "2021-05-14T13:51:04.216194Z"
    }
   },
   "outputs": [],
   "source": [
    "# Selected tiles\n",
    "\n",
    "tiles = [5763, 5766, 5761]\n",
    "\n",
    "inspect(tiles=tiles)"
   ]
  },
  {
   "cell_type": "code",
   "execution_count": null,
   "id": "oriented-plasma",
   "metadata": {
    "ExecuteTime": {
     "end_time": "2021-05-14T13:51:05.151439Z",
     "start_time": "2021-05-14T13:51:04.669475Z"
    }
   },
   "outputs": [],
   "source": [
    "# Display features along with the tiles existing inside bounding box\n",
    "import pandas as pd\n",
    "from here.geotiles.heretile import in_bounding_box\n",
    "\n",
    "features = [\n",
    "    Point(-100, 30).buffer(10),\n",
    "    LineString([(-110, 30), (-100, 50)]).buffer(2)\n",
    "]\n",
    "tiles = pd.Series(in_bounding_box(west=-110, south=35, east=-80, north=50, level=7))\n",
    "\n",
    "inspect(features, tiles=tiles, tiles_style=Color.ORANGE)"
   ]
  },
  {
   "cell_type": "markdown",
   "id": "boxed-coating",
   "metadata": {},
   "source": [
    "#### Mixed layer types and tiling"
   ]
  },
  {
   "cell_type": "code",
   "execution_count": null,
   "id": "tamil-companion",
   "metadata": {
    "ExecuteTime": {
     "end_time": "2021-05-14T13:51:05.813442Z",
     "start_time": "2021-05-14T13:51:05.155445Z"
    }
   },
   "outputs": [],
   "source": [
    "# Inspect more than one layer\n",
    "# each layer can be of different type, in this example\n",
    "# GeoDataFrame, GeoSeries, collection of shapely geometric data\n",
    "\n",
    "inspect(layers={\n",
    "    \"Example GeoDataFrame\": gdf1,\n",
    "    \"Example GeoSeries\": gs2,\n",
    "    \"Example GeoJSON Feature\": irl,\n",
    "    \"Example GeoJSON FeatureCollection\": data4,\n",
    "    \"Example geometries\": [pt1, pt2, ls1, ls2, poly2]\n",
    "}, layers_style={\n",
    "    \"Example geometries\": Color.GRAY\n",
    "}) # named, each layer default-styled, but geometries"
   ]
  },
  {
   "cell_type": "markdown",
   "id": "numeric-bullet",
   "metadata": {},
   "source": [
    "## Example analysis\n",
    "\n",
    "Show the top 10 partitions containing countries with the largest borders geometry (by data size).\n",
    "\n",
    "This is a quick analysis performed solely on metadata. Content is downloaded to extract\n",
    "country polygons and show them on a map."
   ]
  },
  {
   "cell_type": "code",
   "execution_count": null,
   "id": "cooked-aruba",
   "metadata": {
    "ExecuteTime": {
     "end_time": "2021-05-14T13:51:07.021236Z",
     "start_time": "2021-05-14T13:51:05.816434Z"
    },
    "tags": []
   },
   "outputs": [],
   "source": [
    "# Get the metadata of the sample layer\n",
    "\n",
    "mdata = borders_layer.get_partitions_metadata()"
   ]
  },
  {
   "cell_type": "code",
   "execution_count": null,
   "id": "spiritual-significance",
   "metadata": {
    "ExecuteTime": {
     "end_time": "2021-05-14T13:51:07.036952Z",
     "start_time": "2021-05-14T13:51:07.023986Z"
    }
   },
   "outputs": [],
   "source": [
    "mdata.sort_values(by=\"data_size\", ascending=False)[:10]"
   ]
  },
  {
   "cell_type": "code",
   "execution_count": null,
   "id": "virtual-grass",
   "metadata": {
    "ExecuteTime": {
     "end_time": "2021-05-14T13:51:16.987347Z",
     "start_time": "2021-05-14T13:51:07.038946Z"
    }
   },
   "outputs": [],
   "source": [
    "large_ids = mdata.sort_values(by=\"data_size\", ascending=False)[:10].id.values\n",
    "gdf = borders_layer.read_partitions(partition_ids=list(large_ids))\n",
    "gdf"
   ]
  },
  {
   "cell_type": "code",
   "execution_count": null,
   "id": "scheduled-burton",
   "metadata": {
    "ExecuteTime": {
     "end_time": "2021-05-14T13:51:21.244100Z",
     "start_time": "2021-05-14T13:51:16.989342Z"
    },
    "tags": []
   },
   "outputs": [],
   "source": [
    "# Inspect the result\n",
    "\n",
    "inspect(gdf, \"10 largest partitions\", Color.PINK)"
   ]
  },
  {
   "cell_type": "markdown",
   "id": "protected-guidance",
   "metadata": {},
   "source": [
    "### 2. The `Inspect` interface\n",
    "\n",
    "You can create an inspector and fine-tune the visualization by configuring the inspector with various functions. The customization possibilities, although extended, are similar to the one provided by the `inspect` function.\n",
    "\n",
    "You can visualize one or more datadasets and one or more tiling grids. Each appaear as layer, and layer may have a name, style, or more complex rendering style."
   ]
  },
  {
   "cell_type": "markdown",
   "id": "italian-weekly",
   "metadata": {},
   "source": [
    "#### Generic styling"
   ]
  },
  {
   "cell_type": "code",
   "execution_count": null,
   "id": "divided-maple",
   "metadata": {
    "ExecuteTime": {
     "end_time": "2021-05-14T13:51:21.447557Z",
     "start_time": "2021-05-14T13:51:21.246096Z"
    }
   },
   "outputs": [],
   "source": [
    "# Instantiate the default inspector\n",
    "from here.inspector import new_inspector\n",
    "\n",
    "inspector = new_inspector()\n",
    "\n",
    "# Load some data, each creates a layer\n",
    "inspector.add_features(fra) # unnamed content\n",
    "inspector.add_features(ger, style=Color.YELLOW)  # unnamed content with style\n",
    "inspector.add_features(gs2, name=\"Some mediterranean countries\", style=Color.BLUE) # named and styled\n",
    "\n",
    "# Further configuration\n",
    "inspector.set_zoom(4)\n",
    "\n",
    "# Show the inspector once configuration is complete\n",
    "inspector.show()"
   ]
  },
  {
   "cell_type": "markdown",
   "id": "neutral-princeton",
   "metadata": {},
   "source": [
    "#### Multiple tiling grids"
   ]
  },
  {
   "cell_type": "code",
   "execution_count": null,
   "id": "medical-labor",
   "metadata": {
    "ExecuteTime": {
     "end_time": "2021-05-14T13:51:21.873623Z",
     "start_time": "2021-05-14T13:51:21.449551Z"
    }
   },
   "outputs": [],
   "source": [
    "# Instantiate a default inspector\n",
    "from here.geotiles.heretile import in_geometry\n",
    "\n",
    "inspector = new_inspector()\n",
    "\n",
    "# Load some data, each creates a layer\n",
    "inspector.add_features(fra, name=\"France\", style=Color.BLUE)\n",
    "\n",
    "# Define some tiles\n",
    "tiles1 = pd.Series(in_bounding_box(west=-10, south=30, east=5, north=40, level=6))\n",
    "tiles2 = pd.Series(in_geometry(Point(10, 45).buffer(8), level=8, fully_contained=True))\n",
    "\n",
    "# Add the two tiling grids\n",
    "inspector.add_tiles(tiles1, name=\"Tiling grid, level 6\", style=Color.GREEN)\n",
    "inspector.add_tiles(tiles2, name=\"Tiling grid, level 8\", style=Color.YELLOW)\n",
    "\n",
    "# Show the inspector once configuration is complete\n",
    "inspector.show()"
   ]
  },
  {
   "cell_type": "markdown",
   "id": "relevant-concentration",
   "metadata": {},
   "source": [
    "#### _ipyleaflet_-specific styles\n",
    "\n",
    "Styling possibilities are not limited to generic styles and colors. Each inspector implementation supports implementation-specific styles.\n",
    "\n",
    "For the case of the _ipyleaflet_-based inspector, `style` dictionaries as described in [ipyleaflet documentation](https://ipyleaflet.readthedocs.io/)\n",
    "can be passed in place of generic styles. This includes support for `hover_style` and `point_style` as well.\n",
    "\n",
    "A method `set_basemap` is provided to easily configure a custom _ipyleaflet_ [base map](https://ipyleaflet.readthedocs.io/en/latest/api_reference/basemaps.html)."
   ]
  },
  {
   "cell_type": "code",
   "execution_count": null,
   "id": "separate-growing",
   "metadata": {
    "ExecuteTime": {
     "end_time": "2021-05-14T13:51:22.270546Z",
     "start_time": "2021-05-14T13:51:21.874620Z"
    }
   },
   "outputs": [],
   "source": [
    "# This example requires explicit use of the ipyleaflet-based implementation\n",
    "from here.inspector.ipyleaflet import IpyleafletInspector\n",
    "from here.inspector import external_basemaps\n",
    "\n",
    "# Instantiate the ipyleaflet-based inspector\n",
    "inspector = IpyleafletInspector()\n",
    "\n",
    "# Add features with ipyleaflet-specific styles\n",
    "inspector.add_features(\n",
    "    fra, name=\"France\",\n",
    "    style={'color': 'cyan', 'radius': 8, 'fillColor': '#cc6633', 'opacity': 0.5, 'weight': 5, 'dashArray': '10', 'fillOpacity': 0.4},\n",
    "    hover_style={'fillColor': 'cyan', 'fillOpacity': 0.4}\n",
    ")\n",
    "inspector.add_features(\n",
    "    [pt1, pt2, pt3, ls1, poly2], name=\"Some geometries\",\n",
    "    style={'color': 'magenta', 'fillColor': 'white', 'opacity': 0.8, 'weight': 3, 'dashArray': '5', 'fillOpacity': 0.8},\n",
    "    hover_style={'fillColor': 'yellow', 'fillOpacity': 0.4},\n",
    "    point_style={'radius': 10}\n",
    ")\n",
    "\n",
    "# Set a different base map\n",
    "inspector.set_basemap(external_basemaps.Esri.WorldImagery)\n",
    "\n",
    "# Show the inspector once configuration is complete\n",
    "inspector.show()"
   ]
  },
  {
   "cell_type": "markdown",
   "id": "russian-marketing",
   "metadata": {},
   "source": [
    "### 3. The `backend` function to access implementation details\n",
    "\n",
    "Via the `Inspector.backend` function it's possible to access the underlying rendering backend. This enables access to all the advanced functionalities of the rendering backend for more advanced use cases and unlimited customization. The implementation is provided already configured with theme, features, and tiling grids specified so far. Users can add content.\n",
    "\n",
    "For `IpyleafletInspector`, this provides access to a preconfigured _ipyleaflet_ `Map` object. This in turns enables defining custom layer types, further map content, and UI widgets. For more information, please see the _ipyleaftlet_ [documentation](https://ipyleaflet.readthedocs.io/en/latest/api_reference/map.html)."
   ]
  },
  {
   "cell_type": "markdown",
   "id": "digital-vietnamese",
   "metadata": {},
   "source": [
    "## Inspector Options: default themes and colors\n",
    "\n",
    "The inspector is configurable by changing the properties in `here.inspector.options`, that are used as default values. These include default theme and styles, also also HERE API key to enable base maps provided by HERE."
   ]
  },
  {
   "cell_type": "code",
   "execution_count": null,
   "id": "e292a4a7-3d78-421e-a8c2-0192cb864d1e",
   "metadata": {},
   "outputs": [],
   "source": [
    "print(options)"
   ]
  },
  {
   "cell_type": "markdown",
   "id": "d6c89f13-ae19-425b-bedf-9234a23a9eed",
   "metadata": {},
   "source": [
    "Multiple default themes and colors are provided in the inspector: "
   ]
  },
  {
   "cell_type": "code",
   "execution_count": null,
   "id": "average-occasion",
   "metadata": {
    "ExecuteTime": {
     "end_time": "2021-05-14T13:51:22.722769Z",
     "start_time": "2021-05-14T13:51:22.272541Z"
    }
   },
   "outputs": [],
   "source": [
    "from here.inspector.styles import Theme\n",
    "\n",
    "for theme in Theme:\n",
    "    print(theme)\n",
    "\n",
    "print(\"Default:\", options.default_theme)"
   ]
  },
  {
   "cell_type": "code",
   "execution_count": null,
   "id": "known-carrier",
   "metadata": {
    "ExecuteTime": {
     "end_time": "2021-05-14T13:51:23.315610Z",
     "start_time": "2021-05-14T13:51:22.724764Z"
    }
   },
   "outputs": [],
   "source": [
    "for color in Color:\n",
    "    print(color)\n",
    "\n",
    "print(\"Default:\", [c.name for c in options.default_colors])"
   ]
  },
  {
   "cell_type": "markdown",
   "id": "7e022e74-30e8-4ec9-809f-59c81e625733",
   "metadata": {},
   "source": [
    "The default theme is used to style the map, including the base map, and define RGB values for each color. The default colors are cycled through by the inspector to select which color to use for features and tiling grids in case no style or color is specified. Apart from setting specific themes, colors and other settings using methods of `Inspector`, the user can override these default values directly in the options (shown here only for the theme):"
   ]
  },
  {
   "cell_type": "code",
   "execution_count": null,
   "id": "3f835b8e-e146-42b5-8b3a-4b8f0ba3021f",
   "metadata": {},
   "outputs": [],
   "source": [
    "# From this moment on, all the inspector instances use dark theme\n",
    "options.default_theme = Theme.DARK_MAP\n",
    "\n",
    "inspect()"
   ]
  },
  {
   "cell_type": "markdown",
   "id": "3f5bec3f-31fd-415c-b3b4-83c02e87df40",
   "metadata": {},
   "source": [
    "It's also possible to specify a different theme or sequence of colors using the methods `set_theme` and `set_colors` of `Inspector`."
   ]
  },
  {
   "cell_type": "code",
   "execution_count": null,
   "id": "54588a81-5d89-415b-b132-8886079cf968",
   "metadata": {},
   "outputs": [],
   "source": [
    "# This resets the default to `LIGHT_MAP` to not interfere with the cells below\n",
    "options.default_theme = Theme.LIGHT_MAP"
   ]
  },
  {
   "cell_type": "markdown",
   "id": "adopted-disabled",
   "metadata": {},
   "source": [
    "### Blank themes\n",
    "\n",
    "A default map is added as base map in the default theme. It's possible to use themes ending with `_BLANK` to avoid displaying a base map."
   ]
  },
  {
   "cell_type": "code",
   "execution_count": null,
   "id": "sublime-prairie",
   "metadata": {
    "ExecuteTime": {
     "end_time": "2021-05-14T13:51:24.175330Z",
     "start_time": "2021-05-14T13:51:23.316879Z"
    }
   },
   "outputs": [],
   "source": [
    "# Instantiate the default inspector\n",
    "inspector = new_inspector()\n",
    "\n",
    "# Load some data, each creates a layer\n",
    "inspector.add_features(fra, \"France\", Color.BLUE)\n",
    "inspector.add_features(ger, \"Germany\", Color.RED)\n",
    "inspector.add_features(irl, \"Ireland\", Color.GREEN)\n",
    "inspector.add_features(gs2, \"Country mix\", Color.GRAY)\n",
    "\n",
    "# Configure the theme\n",
    "inspector.set_theme(Theme.LIGHT_BLANK)\n",
    "\n",
    "# Show the inspector once configuration is complete\n",
    "inspector.show()"
   ]
  },
  {
   "cell_type": "markdown",
   "id": "plastic-decline",
   "metadata": {},
   "source": [
    "### Dark themes\n",
    "\n",
    "Use themes beginning with `DARK_` for a more comfortable experience at night or dark environements. RGB values of standard colors are adjusted to the theme."
   ]
  },
  {
   "cell_type": "code",
   "execution_count": null,
   "id": "portable-structure",
   "metadata": {
    "ExecuteTime": {
     "end_time": "2021-05-14T13:51:24.464404Z",
     "start_time": "2021-05-14T13:51:24.176326Z"
    }
   },
   "outputs": [],
   "source": [
    "# Instantiate the default inspector\n",
    "inspector = new_inspector()\n",
    "\n",
    "# Load some data, each creates a layer\n",
    "inspector.add_features(fra, \"France\", Color.BLUE)\n",
    "inspector.add_features(ger, \"Germany\", Color.RED)\n",
    "inspector.add_features(irl, \"Ireland\", Color.GREEN)\n",
    "inspector.add_features(gs2, \"Country mix\", Color.GRAY)\n",
    "\n",
    "# Configure the theme\n",
    "inspector.set_theme(Theme.DARK_MAP)\n",
    "\n",
    "# Show the inspector once configuration is complete\n",
    "inspector.show()"
   ]
  },
  {
   "cell_type": "markdown",
   "id": "cc72c425",
   "metadata": {},
   "source": [
    "### Examples of base maps\n",
    "Here inspector supports multiple ways to define base maps:\n",
    "\n",
    "- HERE base maps\n",
    "- External base maps\n",
    "- Custom base maps\n",
    "\n",
    "HERE base maps and External base maps are `Tileprovider` objects provided by [xyzservices](https://github.com/geopandas/xyzservices) package. For HERE base maps you need to add your HERE API key to the global inspector options written directly in the code or taken from an environment variable. "
   ]
  },
  {
   "cell_type": "markdown",
   "id": "cb2dcdb1",
   "metadata": {},
   "source": [
    "### Example of base maps from HERE\n",
    "\n",
    "In case a HERE API key is available, the inspector takes advantage of it authenticate MapTile API.  \n",
    "Just specify your own key in `here.inspector.options.api_key` as shown at the beginning of the notebook. HERE maps are visualised if the HERE API key is set, otherwise fall-back base maps are used. Below example shows all the supported HERE base maps."
   ]
  },
  {
   "cell_type": "code",
   "execution_count": null,
   "id": "559b765a",
   "metadata": {},
   "outputs": [],
   "source": [
    "here_basemaps"
   ]
  },
  {
   "cell_type": "code",
   "execution_count": null,
   "id": "7060389d",
   "metadata": {},
   "outputs": [],
   "source": [
    "from IPython.display import display\n",
    "\n",
    "if options.api_key:\n",
    "    inspector = IpyleafletInspector()\n",
    "    inspector.set_basemap(basemap=here_basemaps.normalDay)\n",
    "    inspector.set_zoom(14)\n",
    "    inspector.set_center(Point(13.4083, 52.5186))\n",
    "    display(inspector.show())"
   ]
  },
  {
   "cell_type": "markdown",
   "id": "25498c19",
   "metadata": {},
   "source": [
    "### Example of base maps from external providers\n",
    "External base maps are XYZ tile providers other than HERE."
   ]
  },
  {
   "cell_type": "code",
   "execution_count": null,
   "id": "99177c7e",
   "metadata": {},
   "outputs": [],
   "source": [
    "external_basemaps"
   ]
  },
  {
   "cell_type": "code",
   "execution_count": null,
   "id": "4f86fd2c",
   "metadata": {},
   "outputs": [],
   "source": [
    "inspector = IpyleafletInspector()\n",
    "inspector.set_basemap(basemap=external_basemaps.OpenStreetMap.Mapnik)\n",
    "inspector.show()"
   ]
  },
  {
   "cell_type": "markdown",
   "id": "79cb18d1",
   "metadata": {},
   "source": [
    "Some external basemaps need an auth token/api key.\n",
    "You can check if external basemap requires authentication token using `requires_token()` method on Tileprovider.\n",
    "If token/api key is required then user need to set API key given by provider in basemap object."
   ]
  },
  {
   "cell_type": "code",
   "execution_count": null,
   "id": "d986b9f5",
   "metadata": {},
   "outputs": [],
   "source": [
    "if external_basemaps.MapBox.requires_token():\n",
    "    external_basemaps.MapBox[\"accessToken\"] = \"YOUR-PERSONAL-TOKEN\""
   ]
  },
  {
   "cell_type": "markdown",
   "id": "5e9d5376",
   "metadata": {},
   "source": [
    "### Example of a custom base map"
   ]
  },
  {
   "cell_type": "code",
   "execution_count": null,
   "id": "87220296",
   "metadata": {},
   "outputs": [],
   "source": [
    "inspector = IpyleafletInspector()\n",
    "\n",
    "basemap = {\n",
    "    'name': 'U.S. Geological Survey',\n",
    "    'url': 'https://basemap.nationalmap.gov/arcgis/rest/services/USGSTopo/MapServer/tile/{z}/{y}/{x}',\n",
    "    'maxZoom': 20,\n",
    "    'attribution': 'Tiles courtesy of the <a href=\"https://usgs.gov/\">U.S. Geological Survey</a>'\n",
    "}\n",
    "\n",
    "inspector.set_basemap(basemap)\n",
    "inspector.show()"
   ]
  },
  {
   "cell_type": "markdown",
   "id": "29072215-a308-434f-829c-53a01e8be679",
   "metadata": {},
   "source": [
    "<!--\n",
    "from urllib.parse import quote, unquote\n",
    "svg = \"\"\"<svg width=\"40\" height=\"48\" viewBox=\"0 0 40 48\" fill=\"none\" xmlns=\"http://www.w3.org/2000/svg\"><path class=\"triangle\" d=\"M11,36.8l-5.5,5.5L0,36.8H11z\" fill=\"#48DAD0\"></path><path class=\"HERE\" d=\"M19.1,24.2c-1.2-1.4-1.1-2.1-0.4-2.8c0.9-0.9,1.7-0.5,2.7,0.5L19.1,24.2z M30.9,9.2c0.9-0.9,1.7-0.5,2.7,0.5\n",
    "    L31.3,12C30.1,10.7,30.2,9.9,30.9,9.2z M38,11.6c-1.1,1.6-2.9,4.2-4.9,2.2l5-5c-0.4-0.5-0.8-0.9-1-1.1c-2.7-2.7-5.7-2.7-8-0.4\n",
    "\tc-1.6,1.6-2,3.4-1.5,5.1l-1.6-1.8c-0.5,0.3-2.4,1.9-0.9,4.5l-1.8-1.5l-2.4,2.4l3.2,3.2c-2.5-1.9-5.1-1.8-7.2,0.4\n",
    "\tc-2.3,2.3-2.1,5-0.4,7.3l-0.3-0.3c-2.3-2.3-4.7-1.5-5.9-0.3c-0.9,0.9-1.5,2.2-1.3,3.1L4,24.6l-2.6,2.6l9.6,9.6h5.2l-3.5-3.5\n",
    "\tc-1.8-1.8-1.8-2.8-1-3.7c0.8-0.8,1.8-0.3,3.6,1.4l3.4,3.4l2.6-2.6l-3.2-3.2c2.3,1.8,5.1,1.9,7.7-0.6l0,0c1.5-1.4,2-2.8,2-2.8\n",
    "\tl-1.9-1.3c-1.1,1.6-2.9,4.2-4.9,2.3l5-5l3.1,3.1l2.7-2.7l-3.9-3.9c-1.8-1.8-0.7-3.5,0-4.1c0.4,0.7,0.9,1.5,1.5,2.1\n",
    "\tc2.5,2.5,5.7,3,8.6,0.2l0,0c1.5-1.4,2-2.8,2-2.8S38,11.6,38,11.6z\" fill=\"#000000\"></path></svg>\n",
    "\"\"\"\n",
    "print(f\"\"\"![HERE](data:image/svg+xml,{quote(svg)})\n",
    "<span style=\"float:right; width:90%;\"><sub><b>Copyright (c) 2020-2025 HERE Global B.V. and its affiliate(s). All rights reserved.</b>\n",
    "This software, including documentation, is protected by copyright controlled by HERE. All rights are reserved. Copying, including reproducing, \n",
    "storing, adapting or translating, any or all of this material requires the prior written consent of HERE. This material also contains confidential \n",
    "information which may not be disclosed to others without the prior written consent of HERE.</sub></span>\"\"\")\n",
    "-->\n",
    "![HERE](data:image/svg+xml,%3Csvg%20width%3D%2240%22%20height%3D%2248%22%20viewBox%3D%220%200%2040%2048%22%20fill%3D%22none%22%20xmlns%3D%22http%3A//www.w3.org/2000/svg%22%3E%3Cpath%20class%3D%22triangle%22%20d%3D%22M11%2C36.8l-5.5%2C5.5L0%2C36.8H11z%22%20fill%3D%22%2348DAD0%22%3E%3C/path%3E%3Cpath%20class%3D%22HERE%22%20d%3D%22M19.1%2C24.2c-1.2-1.4-1.1-2.1-0.4-2.8c0.9-0.9%2C1.7-0.5%2C2.7%2C0.5L19.1%2C24.2z%20M30.9%2C9.2c0.9-0.9%2C1.7-0.5%2C2.7%2C0.5%0A%20%20%20%20L31.3%2C12C30.1%2C10.7%2C30.2%2C9.9%2C30.9%2C9.2z%20M38%2C11.6c-1.1%2C1.6-2.9%2C4.2-4.9%2C2.2l5-5c-0.4-0.5-0.8-0.9-1-1.1c-2.7-2.7-5.7-2.7-8-0.4%0A%09c-1.6%2C1.6-2%2C3.4-1.5%2C5.1l-1.6-1.8c-0.5%2C0.3-2.4%2C1.9-0.9%2C4.5l-1.8-1.5l-2.4%2C2.4l3.2%2C3.2c-2.5-1.9-5.1-1.8-7.2%2C0.4%0A%09c-2.3%2C2.3-2.1%2C5-0.4%2C7.3l-0.3-0.3c-2.3-2.3-4.7-1.5-5.9-0.3c-0.9%2C0.9-1.5%2C2.2-1.3%2C3.1L4%2C24.6l-2.6%2C2.6l9.6%2C9.6h5.2l-3.5-3.5%0A%09c-1.8-1.8-1.8-2.8-1-3.7c0.8-0.8%2C1.8-0.3%2C3.6%2C1.4l3.4%2C3.4l2.6-2.6l-3.2-3.2c2.3%2C1.8%2C5.1%2C1.9%2C7.7-0.6l0%2C0c1.5-1.4%2C2-2.8%2C2-2.8%0A%09l-1.9-1.3c-1.1%2C1.6-2.9%2C4.2-4.9%2C2.3l5-5l3.1%2C3.1l2.7-2.7l-3.9-3.9c-1.8-1.8-0.7-3.5%2C0-4.1c0.4%2C0.7%2C0.9%2C1.5%2C1.5%2C2.1%0A%09c2.5%2C2.5%2C5.7%2C3%2C8.6%2C0.2l0%2C0c1.5-1.4%2C2-2.8%2C2-2.8S38%2C11.6%2C38%2C11.6z%22%20fill%3D%22%23000000%22%3E%3C/path%3E%3C/svg%3E%0A)\n",
    "<span style=\"float:right; width:90%;\"><sub><b>Copyright (c) 2020-2025 HERE Global B.V. and its affiliate(s). All rights reserved.</b>\n",
    "This software, including documentation, is protected by copyright controlled by HERE. All rights are reserved. Copying, including reproducing, \n",
    "storing, adapting or translating, any or all of this material requires the prior written consent of HERE. This material also contains confidential \n",
    "information which may not be disclosed to others without the prior written consent of HERE.</sub></span>"
   ]
  }
 ],
 "metadata": {
  "kernelspec": {
   "display_name": "Python 3 (ipykernel)",
   "language": "python",
   "name": "python3"
  },
  "language_info": {
   "codemirror_mode": {
    "name": "ipython",
    "version": 3
   },
   "file_extension": ".py",
   "mimetype": "text/x-python",
   "name": "python",
   "nbconvert_exporter": "python",
   "pygments_lexer": "ipython3",
   "version": "3.12.1"
  }
 },
 "nbformat": 4,
 "nbformat_minor": 5
}
