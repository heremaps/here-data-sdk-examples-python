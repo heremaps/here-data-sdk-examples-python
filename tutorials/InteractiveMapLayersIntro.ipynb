{
 "cells": [
  {
   "cell_type": "markdown",
   "id": "09809f38",
   "metadata": {},
   "source": [
    "# Intro to Interactive Map Layers\n",
    "\n",
    "**This notebook shows how to perform read & write operations on Interactive Map Layers.**\n",
    "\n",
    "### Dependencies\n",
    "\n",
    "* Datasets: Two example datasets will be stored into newly created layers.\n",
    "* Language: Python\n",
    "\n",
    "### Test data\n",
    "\n",
    "Two free datasets (both GeoJSON) are written to interactive map layers.\n",
    "One contains almost all\n",
    "[world countries](https://github.com/johan/world.geo.json/blob/master/countries.geo.json)\n",
    "as Polygon or MultiPolygon geometries, and the other contains the locations\n",
    "of a number of\n",
    "[volcanoes](https://earthworks.stanford.edu/download/file/harvard-glb-volc-geojson.json)\n",
    "all over the world.\n",
    "\n",
    "### Workflow\n",
    "\n",
    "- Import packages, incl. HERE Python SDK ones\n",
    "- Download external datasets\n",
    "- Create catalog and layers\n",
    "- Write GeoJSON data into layers\n",
    "- Show statistical information of layers\n",
    "- Get single feature from a layer\n",
    "- Get multiple features from a layer\n",
    "- Iterate over all the features in a layer\n",
    "- Search features from a layer based on their properties\n",
    "- Get features in a bounding box\n",
    "- Spatial search by providing radius\n",
    "- Spatial search using Geometry Intersection"
   ]
  },
  {
   "cell_type": "markdown",
   "id": "9b5ad93f",
   "metadata": {},
   "source": [
    "## Import Packages"
   ]
  },
  {
   "cell_type": "code",
   "execution_count": null,
   "id": "0c3dc8c1-861f-4b79-99c4-ceebd22c8472",
   "metadata": {},
   "outputs": [],
   "source": [
    "from datetime import datetime\n",
    "import json\n",
    "import os\n",
    "\n",
    "import requests\n",
    "import shapely.geometry\n",
    "from shapely.geometry import Point\n",
    "\n",
    "from here.platform import Platform\n",
    "from here.inspector import inspect, new_inspector\n",
    "from here.inspector.styles import Color"
   ]
  },
  {
   "cell_type": "markdown",
   "id": "c29ac288-87d7-4945-aa1e-85cb6616a620",
   "metadata": {},
   "source": [
    "## Download external datasets"
   ]
  },
  {
   "cell_type": "code",
   "execution_count": null,
   "id": "3cbc74ae-c37a-421e-b321-ad1fae5bc2b7",
   "metadata": {},
   "outputs": [],
   "source": [
    "# Download volcanoe data from this source:\n",
    "# Global GIS: volcanoes of the world; volcano basic data. [Shapefile].\n",
    "# American Geological Institute. Retrieved from\n",
    "# https://earthworks.stanford.edu/catalog/harvard-glb-volc \n",
    "\n",
    "with open(\"harvard-glb-volc-geojson.json\", \"w\") as f:\n",
    "    text = requests.get(\"https://earthworks.stanford.edu/download/file/harvard-glb-volc-geojson.json\").text\n",
    "    f.write(text)"
   ]
  },
  {
   "cell_type": "code",
   "execution_count": null,
   "id": "d4a1ecda-c558-47e7-a427-275ee396e2d3",
   "metadata": {},
   "outputs": [],
   "source": [
    "with open(\"countries.geo.json\", \"w\") as f:\n",
    "    text = requests.get(\"https://raw.githubusercontent.com/johan/world.geo.json/master/countries.geo.json\").text\n",
    "    f.write(text)"
   ]
  },
  {
   "cell_type": "markdown",
   "id": "e5b3a961-4461-48a6-863a-52691acc68b5",
   "metadata": {},
   "source": [
    "## Quick-inspect the sample datasets "
   ]
  },
  {
   "cell_type": "code",
   "execution_count": null,
   "id": "92ca16e0-9844-4e79-994b-0cc7fed73d95",
   "metadata": {},
   "outputs": [],
   "source": [
    "countries_path = \"countries.geo.json\"\n",
    "volcanoes_path = \"harvard-glb-volc-geojson.json\"\n",
    "\n",
    "insp = new_inspector()\n",
    "insp.add_features(json.load(open(countries_path)), name=\"Countries\", style=Color.BLUE)\n",
    "insp.add_features(json.load(open(volcanoes_path)), name=\"Volcanoes\", style=Color.RED)\n",
    "insp.show()"
   ]
  },
  {
   "cell_type": "markdown",
   "id": "73838f64-9d24-4b35-bfb7-7ec17777fb7c",
   "metadata": {},
   "source": [
    "## Setup"
   ]
  },
  {
   "cell_type": "code",
   "execution_count": null,
   "id": "5a9cdb32",
   "metadata": {},
   "outputs": [],
   "source": [
    "platform = Platform()"
   ]
  },
  {
   "cell_type": "code",
   "execution_count": null,
   "id": "8b8289fb-9102-4996-816b-7a7d63a07a41",
   "metadata": {},
   "outputs": [],
   "source": [
    "# create a timestamp/hash-like ID for the catalog ID\n",
    "ts = datetime.utcnow().isoformat()[:19]\n",
    "ts = ts.replace(\"-\", \"\").replace(\":\", \"\").replace(\"T\", \"\").lower()\n",
    "print(ts)"
   ]
  },
  {
   "cell_type": "markdown",
   "id": "cae8b479-ac98-430e-b349-9ed501e041ce",
   "metadata": {
    "tags": []
   },
   "source": [
    "## Create resources on the platform"
   ]
  },
  {
   "cell_type": "markdown",
   "id": "b2a9321d-60d9-4aeb-8135-c242e70feede",
   "metadata": {},
   "source": [
    "### Create catalog"
   ]
  },
  {
   "cell_type": "code",
   "execution_count": null,
   "id": "84645f12-0806-48f1-ba88-438e19299be3",
   "metadata": {},
   "outputs": [],
   "source": [
    "cat = platform.create_catalog(id=f\"{ts}\", name=\"name\", \n",
    "                            summary=\"summary\", description=\"description\", billing_tag=\"ODIN2823\")"
   ]
  },
  {
   "cell_type": "markdown",
   "id": "6582410f-36e1-43fe-a6ad-8a10dc5779a6",
   "metadata": {},
   "source": [
    "### Add new Interactive Map layers to catalog"
   ]
  },
  {
   "cell_type": "code",
   "execution_count": null,
   "id": "ef3f599e-45be-41ab-aedb-edd13daff7ad",
   "metadata": {},
   "outputs": [],
   "source": [
    "countries_layer_details = {\n",
    "    \"id\": \"countries\",\n",
    "    \"name\": \"countries\",\n",
    "    \"summary\": \"Borders of world countries.\",\n",
    "    \"description\": \"Borders of world countries.\",\n",
    "    \"layerType\": \"interactivemap\",\n",
    "    \"billingTags\": [\"ODIN2823\"]\n",
    "}"
   ]
  },
  {
   "cell_type": "code",
   "execution_count": null,
   "id": "39287eec-1ec0-4a94-90c4-5e1fce468d55",
   "metadata": {},
   "outputs": [],
   "source": [
    "volcanoes_layer_details = {\n",
    "    \"id\": \"volcanoes\",\n",
    "    \"name\": \"volcanoes\",\n",
    "    \"summary\": \"Volcanoes of the world\",\n",
    "    \"description\": \"Volcanoes of the world\",\n",
    "    \"layerType\": \"interactivemap\",\n",
    "    \"billingTags\": [\"ODIN2823\"]\n",
    "}"
   ]
  },
  {
   "cell_type": "code",
   "execution_count": null,
   "id": "cbb645de-16c3-4e29-b6cd-da3a5382ea8c",
   "metadata": {},
   "outputs": [],
   "source": [
    "platform.update_catalog(\n",
    "    hrn=cat.hrn, \n",
    "    id=f\"c{ts}\", \n",
    "    name=\"Countries and volcanoes\", \n",
    "    summary=\"A catalog for countries and volcanoes.\", \n",
    "    description=\"A catalog for countries and volcanoes.\", \n",
    "    layers=[countries_layer_details, volcanoes_layer_details],\n",
    ")"
   ]
  },
  {
   "cell_type": "code",
   "execution_count": null,
   "id": "bb519d7c-ec51-484b-b3c8-0d75406ae838",
   "metadata": {},
   "outputs": [],
   "source": [
    "# Global GIS: volcanoes of the world; volcano basic data. [Shapefile].\n",
    "# American Geological Institute. Retrieved from\n",
    "# https://earthworks.stanford.edu/catalog/harvard-glb-volc \n",
    "\n",
    "volcanoes_layer = cat.get_layer(\"volcanoes\")\n",
    "volcanoes_layer.write_features(from_file=volcanoes_path)"
   ]
  },
  {
   "cell_type": "code",
   "execution_count": null,
   "id": "e63426cb-4dd8-4627-91b2-8a3c248069fd",
   "metadata": {},
   "outputs": [],
   "source": [
    "countries_layer = cat.get_layer(\"countries\")\n",
    "countries_layer.write_features(from_file=countries_path)"
   ]
  },
  {
   "cell_type": "markdown",
   "id": "6876e31a",
   "metadata": {},
   "source": [
    "## Show statistical information of layer\n",
    "\n",
    "This shows some statitics for for the data in the newly created layers."
   ]
  },
  {
   "cell_type": "code",
   "execution_count": null,
   "id": "740b7b83",
   "metadata": {},
   "outputs": [],
   "source": [
    "volcanoes_layer.statistics"
   ]
  },
  {
   "cell_type": "code",
   "execution_count": null,
   "id": "8cdfbcc4",
   "metadata": {},
   "outputs": [],
   "source": [
    "countries_layer.statistics"
   ]
  },
  {
   "cell_type": "markdown",
   "id": "ddfcdbda",
   "metadata": {},
   "source": [
    "## Get/inspect single feature from layer"
   ]
  },
  {
   "cell_type": "code",
   "execution_count": null,
   "id": "8a4e6457",
   "metadata": {},
   "outputs": [],
   "source": [
    "feature = countries_layer.get_feature(feature_id=\"IND\")\n",
    "inspect(feature, name=\"Selected feature\")"
   ]
  },
  {
   "cell_type": "markdown",
   "id": "1d3489ad",
   "metadata": {},
   "source": [
    "## Get/inspect multiple features from layer"
   ]
  },
  {
   "cell_type": "code",
   "execution_count": null,
   "id": "06a194ed",
   "metadata": {},
   "outputs": [],
   "source": [
    "features = countries_layer.get_features(feature_ids=[\"IND\", \"CHN\"])\n",
    "inspect(features, name=\"Selected features\")"
   ]
  },
  {
   "cell_type": "markdown",
   "id": "e722ef8c",
   "metadata": {},
   "source": [
    "## Iterate over & inspect all features in a layer"
   ]
  },
  {
   "cell_type": "code",
   "execution_count": null,
   "id": "6d9b748b",
   "metadata": {},
   "outputs": [],
   "source": [
    "features = list(countries_layer.iter_features())\n",
    "inspect(features, name=\"All the features\")"
   ]
  },
  {
   "cell_type": "markdown",
   "id": "d248a418",
   "metadata": {},
   "source": [
    "## Search features from layer based on their properties"
   ]
  },
  {
   "cell_type": "code",
   "execution_count": null,
   "id": "63bd06b9",
   "metadata": {},
   "outputs": [],
   "source": [
    "searched_features = countries_layer.search_features(\n",
    "    params={\"p.name\": [\"India\", \"United States of America\", \"Australia\", \"Germany\"]}\n",
    ")\n",
    "inspect(searched_features, name=\"Searched features\")"
   ]
  },
  {
   "cell_type": "markdown",
   "id": "5581de3b",
   "metadata": {},
   "source": [
    "## Get features in a bounding box"
   ]
  },
  {
   "cell_type": "code",
   "execution_count": null,
   "id": "f63f15fb",
   "metadata": {},
   "outputs": [],
   "source": [
    "insp = new_inspector()\n",
    "\n",
    "bbox = (68.1766451354, 7.96553477623, 97.4025614766, 35.4940095078)\n",
    "bbox_features = countries_layer.get_features_in_bounding_box(bbox)\n",
    "insp.add_features(bbox_features, name=\"Features in bounding box\")\n",
    "\n",
    "box_polygon = shapely.geometry.box(*bbox)\n",
    "insp.add_features(box_polygon, name=\"Search box\", style=Color.GRAY)\n",
    "\n",
    "insp.show()"
   ]
  },
  {
   "cell_type": "markdown",
   "id": "cc6f9581",
   "metadata": {},
   "source": [
    "## Spatial search within radius"
   ]
  },
  {
   "cell_type": "code",
   "execution_count": null,
   "id": "a832534b",
   "metadata": {},
   "outputs": [],
   "source": [
    "insp = new_inspector()\n",
    "\n",
    "radius_search = countries_layer.spatial_search(lat=0, lng=30, radius=1000000)\n",
    "insp.add_features(radius_search, name=\"Features within radius\")\n",
    "\n",
    "circle = Point(30, 0).buffer(10)\n",
    "insp.add_features(circle, name=\"Search radius\", style=Color.GRAY)\n",
    "\n",
    "insp.show()"
   ]
  },
  {
   "cell_type": "markdown",
   "id": "4aa42411",
   "metadata": {},
   "source": [
    "## Spatial search using Geometry Intersection"
   ]
  },
  {
   "cell_type": "code",
   "execution_count": null,
   "id": "0cda7a90-be17-42d0-9e91-557a2ea7d1e1",
   "metadata": {},
   "outputs": [],
   "source": [
    "feature = countries_layer.get_feature(feature_id=\"USA\")\n",
    "geometry = feature[\"geometry\"]\n",
    "geometry_search = volcanoes_layer.spatial_search_geometry(geometry=geometry)\n",
    "inspect(geometry_search, name=\"Volcanoes in USA\", style=Color.RED)"
   ]
  },
  {
   "cell_type": "markdown",
   "id": "ddd7ee13-51f1-4cf9-bb2b-16807533fbe1",
   "metadata": {},
   "source": [
    "## Clean up\n",
    "\n",
    "Here, if we like, we can remove all resources generated by this notebook (both locally and on the platform)."
   ]
  },
  {
   "cell_type": "code",
   "execution_count": null,
   "id": "db3dd958-d8a5-4d76-97ff-c51c3f081e03",
   "metadata": {
    "tags": []
   },
   "outputs": [],
   "source": [
    "platform.delete_catalog(cat.hrn)\n",
    "os.remove(countries_path)\n",
    "os.remove(volcanoes_path)"
   ]
  },
  {
   "cell_type": "markdown",
   "id": "7a855e58-402f-4f81-aa47-984709aab080",
   "metadata": {},
   "source": [
    "<span style=\"float:left; margin-top:3px;\"><img src=\"https://www.here.com/themes/custom/here_base_theme_v2/logo.svg\" alt=\"HERE Logo\" height=\"60\" width=\"60\"></span><span style=\"float:right; width:90%;\"><sub><b>Copyright (c) 2020-2021 HERE Global B.V. and its affiliate(s). All rights reserved.</b>\n",
    "This software, including documentation, is protected by copyright controlled by HERE. All rights are reserved. Copying, including reproducing, storing, adapting or translating, any or all of this material requires the prior written consent of HERE. This material also contains confidential information which may not be disclosed to others without the prior written consent of HERE.</sub></span>"
   ]
  }
 ],
 "metadata": {
  "kernelspec": {
   "display_name": "Python 3 (ipykernel)",
   "language": "python",
   "name": "python3"
  },
  "language_info": {
   "codemirror_mode": {
    "name": "ipython",
    "version": 3
   },
   "file_extension": ".py",
   "mimetype": "text/x-python",
   "name": "python",
   "nbconvert_exporter": "python",
   "pygments_lexer": "ipython3",
   "version": "3.8.13"
  }
 },
 "nbformat": 4,
 "nbformat_minor": 5
}
