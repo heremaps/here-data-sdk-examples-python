{
 "cells": [
  {
   "cell_type": "markdown",
   "metadata": {},
   "source": [
    "# Process SDII Data (Basic)\n",
    "\n",
    "**This notebook demonstrates how to read and perform basic exploratory analysis on archived and streaming SDII data using the Python SDK. SDII stands for Sensor Data Ingestion Interface. [Learn more about the SDII format specification](https://developer.here.com/documentation/sdii-data-spec/topics/introduction.html \"SDII Documentation\")**\n",
    "\n",
    "\n",
    "### Dependencies\n",
    "* Catalogs: [SDII Sample Berlin](https://platform.here.com/data/hrn:here:data::olp-here:olp-sdii-sample-berlin-2)  \n",
    "* Layers: [Sample Versioned Layer](https://platform.here.com/data/hrn:here:data::olp-here:olp-sdii-sample-berlin-2/sample-versioned-layer)\n",
    "* Languages: Python\n",
    "\n",
    "\n",
    "### Test data sample description\n",
    "The data sample contains simulated vehicle travel paths and corresponding simulated traffic sign observations. Although the schema represents the actual SDII data structure not all fields have been populated. The simulated signs are for demonstration purposes only and do not represent actual sign placements. \n",
    "\n",
    "### Workflow\n",
    "- Import packages\n",
    "- Import Python SDK Libraries\n",
    "- Specify data catalog and layer\n",
    "- Specify a bounding box and get tiles\n",
    "- Read SDII data from a versioned layer in HERE deserialize using the Python SDK utilities\n",
    "- Extract information of interest to _pandas_ dataframes for manipulation and visualization\n",
    "- Perform simple exploratory analysis\n",
    "- Read SDII data from a streaming layer and print some trace information"
   ]
  },
  {
   "cell_type": "markdown",
   "metadata": {},
   "source": [
    "## Import Python Packages"
   ]
  },
  {
   "cell_type": "code",
   "execution_count": null,
   "metadata": {},
   "outputs": [],
   "source": [
    "import matplotlib.pyplot as plt\n",
    "import numpy as np\n",
    "import operator"
   ]
  },
  {
   "cell_type": "markdown",
   "metadata": {},
   "source": [
    "This configuration is being used for bar and chart."
   ]
  },
  {
   "cell_type": "code",
   "execution_count": null,
   "metadata": {},
   "outputs": [],
   "source": [
    "plt.rcParams['figure.figsize'] = (20, 6)\n",
    "plt.rcParams['axes.linewidth'] = 3\n",
    "plt.rcParams['xtick.labelsize'] = 14\n",
    "plt.rcParams['ytick.labelsize'] = 14\n",
    "plt.rcParams['axes.titlesize'] = 20\n",
    "plt.rcParams['axes.labelsize'] = 18"
   ]
  },
  {
   "cell_type": "markdown",
   "metadata": {},
   "source": [
    "## Import the Python SDK libraries"
   ]
  },
  {
   "cell_type": "code",
   "execution_count": null,
   "metadata": {},
   "outputs": [],
   "source": [
    "from here.platform import Platform\n",
    "from here.inspector import inspect, Color\n",
    "import here.geotiles.heretile as ht\n",
    "\n",
    "from shapely.geometry import  Point"
   ]
  },
  {
   "cell_type": "markdown",
   "metadata": {},
   "source": [
    "# Initialize the platform object"
   ]
  },
  {
   "cell_type": "code",
   "execution_count": null,
   "metadata": {},
   "outputs": [],
   "source": [
    "platform = Platform()"
   ]
  },
  {
   "cell_type": "markdown",
   "metadata": {},
   "source": [
    "## Specify data catalog and layer"
   ]
  },
  {
   "cell_type": "code",
   "execution_count": null,
   "metadata": {},
   "outputs": [],
   "source": [
    "CATALOG_HRN = 'hrn:here:data::olp-here:olp-sdii-sample-berlin-2'\n",
    "LAYER_ID = 'sample-versioned-layer'\n",
    "\n",
    "catalog = platform.get_catalog(CATALOG_HRN)\n",
    "layer = catalog.get_layer(LAYER_ID)"
   ]
  },
  {
   "cell_type": "markdown",
   "metadata": {},
   "source": [
    "## Specify a bounding box for the data and get the corresponding tiles"
   ]
  },
  {
   "cell_type": "code",
   "execution_count": null,
   "metadata": {},
   "outputs": [],
   "source": [
    "tile_ids = list(ht.between_points(Point(13.3, 52.5), Point(13.5, 52.6), level=14, fully_contained=False))\n",
    "tile_ids[:10]"
   ]
  },
  {
   "cell_type": "markdown",
   "metadata": {},
   "source": [
    "## Read and parse the SDII data"
   ]
  },
  {
   "cell_type": "code",
   "execution_count": null,
   "metadata": {
    "scrolled": true
   },
   "outputs": [],
   "source": [
    "blobs = layer.read_partitions(tile_ids)\n",
    "\n",
    "# We select only the decoded messages, ignoring partition information\n",
    "parsed_blobs = [ blob for _, blob in blobs ]\n",
    "parsed_blobs[:10]"
   ]
  },
  {
   "cell_type": "markdown",
   "metadata": {},
   "source": [
    "## Calulate  number of occurance of RoadSignData"
   ]
  },
  {
   "cell_type": "code",
   "execution_count": null,
   "metadata": {},
   "outputs": [],
   "source": [
    "def get_freq(arr):\n",
    "    elements_count = {}\n",
    "    for element in arr:\n",
    "        if element in elements_count:\n",
    "            elements_count[element] += 1\n",
    "        else:\n",
    "            if element is not None:\n",
    "                elements_count[element] = 1\n",
    "    return elements_count.items()"
   ]
  },
  {
   "cell_type": "markdown",
   "metadata": {},
   "source": [
    "### Assign Data to RoadSignFields"
   ]
  },
  {
   "cell_type": "code",
   "execution_count": null,
   "metadata": {
    "scrolled": true
   },
   "outputs": [],
   "source": [
    "roadSignType_arr2= []\n",
    "roadSignPermanency_arr= []\n",
    "roadSignValue_arr= []\n",
    "messageId_arr= []\n",
    "messageId_count_arr= []\n",
    "messageId_count_dict= {}\n",
    "messageId_lng_lat_dict= {}\n",
    "\n",
    "for blob in parsed_blobs:\n",
    "    for item in getattr(blob, 'messages'):\n",
    "        messageId_arr.append(item.messageId)\n",
    "        messageId_count_arr = list(item.message.path.positionEstimate)\n",
    "        messageId_count_dict[item.messageId] = len(messageId_count_arr)\n",
    "        messageId_lng_lat_dict[item.messageId] = messageId_count_arr\n",
    "        for item2 in item.message.pathEvents.signRecognition:\n",
    "            roadSignType_arr2.append(item2.roadSignType)\n",
    "            roadSignPermanency_arr.append(item2.roadSignPermanency)\n",
    "            if item2.HasField('roadSignValue'):\n",
    "                roadSignValue_arr.append(item2.roadSignValue)"
   ]
  },
  {
   "cell_type": "markdown",
   "metadata": {},
   "source": [
    "### Fetch RoadSignFields values and their occurance"
   ]
  },
  {
   "cell_type": "code",
   "execution_count": null,
   "metadata": {
    "scrolled": true
   },
   "outputs": [],
   "source": [
    "roadSignType_count_dict= dict(get_freq(roadSignType_arr2))\n",
    "roadSignType_count_dict = dict(sorted(roadSignType_count_dict.items()))\n",
    "roadSignValue_count_dict = dict(get_freq(roadSignValue_arr))\n",
    "messageId_arr= dict(get_freq(messageId_arr))"
   ]
  },
  {
   "cell_type": "markdown",
   "metadata": {},
   "source": [
    "### Number of drives per archiving tile - drives are associated with tiles based on the first GPS point in the trace"
   ]
  },
  {
   "cell_type": "code",
   "execution_count": null,
   "metadata": {},
   "outputs": [],
   "source": [
    "def getMsgCountGroupByTileId(blobs):\n",
    "    data = dict()\n",
    "    for blob in blobs:\n",
    "        data[blob.tileId] = len(blob.messages)\n",
    "    return data"
   ]
  },
  {
   "cell_type": "code",
   "execution_count": null,
   "metadata": {},
   "outputs": [],
   "source": [
    "parsed_data = getMsgCountGroupByTileId(parsed_blobs)\n",
    "df = parsed_data\n",
    "plt.bar(range(len(df)), list(df.values()), align='center')\n",
    "plt.xticks(range(len(df)), list(df.keys()))\n",
    "plt.xlabel('Tile ID')\n",
    "plt.ylabel('Number of messages')\n",
    "plt.grid(True)\n",
    "\n",
    "plt.show()"
   ]
  },
  {
   "cell_type": "markdown",
   "metadata": {},
   "source": [
    "## Traffic sign information"
   ]
  },
  {
   "cell_type": "markdown",
   "metadata": {},
   "source": [
    "### Statistics for different sign types in the sample"
   ]
  },
  {
   "cell_type": "code",
   "execution_count": null,
   "metadata": {},
   "outputs": [],
   "source": [
    "cmap = plt.get_cmap(\"tab20c\")\n",
    "\n",
    "labels_signs = [str(h) for h in roadSignType_count_dict.keys()]\n",
    "\n",
    "pie = plt.pie(roadSignType_count_dict.values(), shadow=False, startangle=140, pctdistance=0.85, colors=cmap.colors)\n",
    "\n",
    "plt.legend(pie[0],labels_signs, bbox_to_anchor=(1,0.5), loc=\"center right\", fontsize=12,\n",
    "           bbox_transform=plt.gcf().transFigure)\n",
    "\n",
    "plt.tight_layout()"
   ]
  },
  {
   "cell_type": "markdown",
   "metadata": {},
   "source": [
    "### Number of signs by permanency"
   ]
  },
  {
   "cell_type": "code",
   "execution_count": null,
   "metadata": {},
   "outputs": [],
   "source": [
    "roadSignPermanency = set(roadSignPermanency_arr)\n",
    "\n",
    "fig, ax =plt.subplots(1,1)\n",
    "data=[[list(roadSignPermanency)[0],len(roadSignPermanency_arr)]]\n",
    "column_labels=[\"roadSignPermanency\", \"count\"]\n",
    "ax.axis('tight')\n",
    "ax.axis('off')\n",
    "ax.table(cellText=data,colLabels=column_labels,loc=\"center\")\n",
    "\n",
    "plt.show()"
   ]
  },
  {
   "cell_type": "markdown",
   "metadata": {},
   "source": [
    "### Number of observation of speed limit signs by value"
   ]
  },
  {
   "cell_type": "code",
   "execution_count": null,
   "metadata": {},
   "outputs": [],
   "source": [
    "plt.bar(range(len(roadSignValue_count_dict)), list(roadSignValue_count_dict.values()), align='center')\n",
    "plt.xticks(range(len(roadSignValue_count_dict)), list(roadSignValue_count_dict.keys()))\n",
    "plt.xlabel('Speed sign value')\n",
    "plt.ylabel('Number of signs')\n",
    "plt.grid(True)\n",
    "\n",
    "plt.show()"
   ]
  },
  {
   "cell_type": "markdown",
   "metadata": {},
   "source": [
    "### Number of GPS points recorded in each drive (sorted from longest to shortest trace)"
   ]
  },
  {
   "cell_type": "code",
   "execution_count": null,
   "metadata": {},
   "outputs": [],
   "source": [
    "msgs_by_count = messageId_count_dict\n",
    "max_obs = max(messageId_count_dict.values())\n",
    "bins=list(range(1,max_obs+2, 5))"
   ]
  },
  {
   "cell_type": "code",
   "execution_count": null,
   "metadata": {},
   "outputs": [],
   "source": [
    "# Implementation of matplotlib function\n",
    "import matplotlib\n",
    "import numpy as np\n",
    "import matplotlib.pyplot as plt\n",
    "\n",
    "np.random.seed(10**7)\n",
    "mu = 1\n",
    "sigma = 21\n",
    "x = messageId_count_dict.values()\n",
    "num_bins = bins\n",
    "\n",
    "n, num_bins, patches = plt.hist(x, bins)\n",
    "\n",
    "y = ((1 / (np.sqrt(2 * np.pi) * sigma)) *\n",
    "    np.exp(-1 * (1 / sigma * (num_bins - mu))**2))\n",
    "\n",
    "plt.plot(bins, y)\n",
    "\n",
    "plt.title('Number of GPS points per message')\n",
    "plt.xlabel('Number of GPS points')\n",
    "plt.ylabel('Number of messages')\n",
    "plt.grid(True)\n",
    "\n",
    "plt.show()"
   ]
  },
  {
   "cell_type": "markdown",
   "metadata": {},
   "source": [
    "### Get the longest drive (based on number of GPS points)"
   ]
  },
  {
   "cell_type": "code",
   "execution_count": null,
   "metadata": {},
   "outputs": [],
   "source": [
    "msgs_by_count_sorted = dict( sorted(msgs_by_count.items(), key=operator.itemgetter(1),reverse=True))\n",
    "frq_msg = list(msgs_by_count_sorted.keys())[0]\n",
    "lat_lon_list = list(messageId_lng_lat_dict[frq_msg])\n",
    "\n",
    "points = [ Point(item.longitude_deg, item.latitude_deg) for item in lat_lon_list ]\n",
    "\n",
    "inspect(points, style=Color.BLUE)"
   ]
  },
  {
   "cell_type": "markdown",
   "metadata": {},
   "source": [
    "# Loading SDII data from streaming layers"
   ]
  },
  {
   "cell_type": "code",
   "execution_count": null,
   "metadata": {},
   "outputs": [],
   "source": [
    "LAYER_ID = 'sample-streaming-layer'\n",
    "\n",
    "layer = catalog.get_layer(LAYER_ID)\n",
    "subscription = layer.subscribe()\n",
    "\n",
    "# get data formatted similar to a partition object\n",
    "parsed_msgs = layer.read_stream(subscription=subscription)\n",
    "\n",
    "parsed_data_list = [ msg.path.positionEstimate for _, msg in parsed_msgs ]\n",
    "\n",
    "result_data = []\n",
    "for i in range(len(parsed_data_list[0])):\n",
    "    result_data.append([])\n",
    "    result_data[i].append(parsed_data_list[0][i].timeStampUTC_ms)\n",
    "    result_data[i].append(parsed_data_list[0][i].latitude_deg)\n",
    "    result_data[i].append(parsed_data_list[0][i].longitude_deg)\n",
    "    result_data[i].append(parsed_data_list[0][i].heading_deg)\n",
    "    result_data[i].append(parsed_data_list[0][i].speed_mps)\n",
    "    if i == 4:\n",
    "        break\n",
    "\n",
    "fig, ax = plt.subplots(1,1)\n",
    "column_labels=[\"timeStampUTC_ms\", \"latitude_deg\", \"longitude_deg\", \"heading_deg\", \"speed_mps\"]\n",
    "ax.axis('tight')\n",
    "ax.axis('off')\n",
    "ax.table(cellText=result_data,colLabels=column_labels,loc=\"center\")\n",
    "\n",
    "plt.show()"
   ]
  },
  {
   "cell_type": "markdown",
   "metadata": {},
   "source": [
    "### Cleaning up"
   ]
  },
  {
   "cell_type": "markdown",
   "metadata": {},
   "source": [
    "When done, unsubscribe from the stream."
   ]
  },
  {
   "cell_type": "code",
   "execution_count": null,
   "metadata": {},
   "outputs": [],
   "source": [
    "subscription.unsubscribe()"
   ]
  },
  {
   "cell_type": "markdown",
   "metadata": {},
   "source": [
    "<!--\n",
    "from urllib.parse import quote, unquote\n",
    "svg = \"\"\"<svg width=\"40\" height=\"48\" viewBox=\"0 0 40 48\" fill=\"none\" xmlns=\"http://www.w3.org/2000/svg\"><path class=\"triangle\" d=\"M11,36.8l-5.5,5.5L0,36.8H11z\" fill=\"#48DAD0\"></path><path class=\"HERE\" d=\"M19.1,24.2c-1.2-1.4-1.1-2.1-0.4-2.8c0.9-0.9,1.7-0.5,2.7,0.5L19.1,24.2z M30.9,9.2c0.9-0.9,1.7-0.5,2.7,0.5\n",
    "    L31.3,12C30.1,10.7,30.2,9.9,30.9,9.2z M38,11.6c-1.1,1.6-2.9,4.2-4.9,2.2l5-5c-0.4-0.5-0.8-0.9-1-1.1c-2.7-2.7-5.7-2.7-8-0.4\n",
    "\tc-1.6,1.6-2,3.4-1.5,5.1l-1.6-1.8c-0.5,0.3-2.4,1.9-0.9,4.5l-1.8-1.5l-2.4,2.4l3.2,3.2c-2.5-1.9-5.1-1.8-7.2,0.4\n",
    "\tc-2.3,2.3-2.1,5-0.4,7.3l-0.3-0.3c-2.3-2.3-4.7-1.5-5.9-0.3c-0.9,0.9-1.5,2.2-1.3,3.1L4,24.6l-2.6,2.6l9.6,9.6h5.2l-3.5-3.5\n",
    "\tc-1.8-1.8-1.8-2.8-1-3.7c0.8-0.8,1.8-0.3,3.6,1.4l3.4,3.4l2.6-2.6l-3.2-3.2c2.3,1.8,5.1,1.9,7.7-0.6l0,0c1.5-1.4,2-2.8,2-2.8\n",
    "\tl-1.9-1.3c-1.1,1.6-2.9,4.2-4.9,2.3l5-5l3.1,3.1l2.7-2.7l-3.9-3.9c-1.8-1.8-0.7-3.5,0-4.1c0.4,0.7,0.9,1.5,1.5,2.1\n",
    "\tc2.5,2.5,5.7,3,8.6,0.2l0,0c1.5-1.4,2-2.8,2-2.8S38,11.6,38,11.6z\" fill=\"#000000\"></path></svg>\n",
    "\"\"\"\n",
    "print(f\"\"\"![HERE](data:image/svg+xml,{quote(svg)})\n",
    "<span style=\"float:right; width:90%;\"><sub><b>Copyright (c) 2020-2025 HERE Global B.V. and its affiliate(s). All rights reserved.</b>\n",
    "This software, including documentation, is protected by copyright controlled by HERE. All rights are reserved. Copying, including reproducing, \n",
    "storing, adapting or translating, any or all of this material requires the prior written consent of HERE. This material also contains confidential \n",
    "information which may not be disclosed to others without the prior written consent of HERE.</sub></span>\"\"\")\n",
    "-->\n",
    "![HERE](data:image/svg+xml,%3Csvg%20width%3D%2240%22%20height%3D%2248%22%20viewBox%3D%220%200%2040%2048%22%20fill%3D%22none%22%20xmlns%3D%22http%3A//www.w3.org/2000/svg%22%3E%3Cpath%20class%3D%22triangle%22%20d%3D%22M11%2C36.8l-5.5%2C5.5L0%2C36.8H11z%22%20fill%3D%22%2348DAD0%22%3E%3C/path%3E%3Cpath%20class%3D%22HERE%22%20d%3D%22M19.1%2C24.2c-1.2-1.4-1.1-2.1-0.4-2.8c0.9-0.9%2C1.7-0.5%2C2.7%2C0.5L19.1%2C24.2z%20M30.9%2C9.2c0.9-0.9%2C1.7-0.5%2C2.7%2C0.5%0A%20%20%20%20L31.3%2C12C30.1%2C10.7%2C30.2%2C9.9%2C30.9%2C9.2z%20M38%2C11.6c-1.1%2C1.6-2.9%2C4.2-4.9%2C2.2l5-5c-0.4-0.5-0.8-0.9-1-1.1c-2.7-2.7-5.7-2.7-8-0.4%0A%09c-1.6%2C1.6-2%2C3.4-1.5%2C5.1l-1.6-1.8c-0.5%2C0.3-2.4%2C1.9-0.9%2C4.5l-1.8-1.5l-2.4%2C2.4l3.2%2C3.2c-2.5-1.9-5.1-1.8-7.2%2C0.4%0A%09c-2.3%2C2.3-2.1%2C5-0.4%2C7.3l-0.3-0.3c-2.3-2.3-4.7-1.5-5.9-0.3c-0.9%2C0.9-1.5%2C2.2-1.3%2C3.1L4%2C24.6l-2.6%2C2.6l9.6%2C9.6h5.2l-3.5-3.5%0A%09c-1.8-1.8-1.8-2.8-1-3.7c0.8-0.8%2C1.8-0.3%2C3.6%2C1.4l3.4%2C3.4l2.6-2.6l-3.2-3.2c2.3%2C1.8%2C5.1%2C1.9%2C7.7-0.6l0%2C0c1.5-1.4%2C2-2.8%2C2-2.8%0A%09l-1.9-1.3c-1.1%2C1.6-2.9%2C4.2-4.9%2C2.3l5-5l3.1%2C3.1l2.7-2.7l-3.9-3.9c-1.8-1.8-0.7-3.5%2C0-4.1c0.4%2C0.7%2C0.9%2C1.5%2C1.5%2C2.1%0A%09c2.5%2C2.5%2C5.7%2C3%2C8.6%2C0.2l0%2C0c1.5-1.4%2C2-2.8%2C2-2.8S38%2C11.6%2C38%2C11.6z%22%20fill%3D%22%23000000%22%3E%3C/path%3E%3C/svg%3E%0A)\n",
    "<span style=\"float:right; width:90%;\"><sub><b>Copyright (c) 2020-2025 HERE Global B.V. and its affiliate(s). All rights reserved.</b>\n",
    "This software, including documentation, is protected by copyright controlled by HERE. All rights are reserved. Copying, including reproducing, \n",
    "storing, adapting or translating, any or all of this material requires the prior written consent of HERE. This material also contains confidential \n",
    "information which may not be disclosed to others without the prior written consent of HERE.</sub></span>"
   ]
  }
 ],
 "metadata": {
  "kernelspec": {
   "display_name": "Python 3 (ipykernel)",
   "language": "python",
   "name": "python3"
  },
  "language_info": {
   "codemirror_mode": {
    "name": "ipython",
    "version": 3
   },
   "file_extension": ".py",
   "mimetype": "text/x-python",
   "name": "python",
   "nbconvert_exporter": "python",
   "pygments_lexer": "ipython3",
   "version": "3.12.1"
  }
 },
 "nbformat": 4,
 "nbformat_minor": 4
}
